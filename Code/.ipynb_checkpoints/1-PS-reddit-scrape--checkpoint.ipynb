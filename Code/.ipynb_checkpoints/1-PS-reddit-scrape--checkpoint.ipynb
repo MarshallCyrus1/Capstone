{
 "cells": [
  {
   "cell_type": "code",
   "execution_count": 4,
   "id": "516ea46e-2f76-4d08-82e1-19125b90ba75",
   "metadata": {},
   "outputs": [],
   "source": [
    "import requests\n",
    "import pandas as pd\n",
    "from tqdm.notebook import tqdm\n",
    "from pprint import pprint\n",
    "import time\n",
    "import os\n",
    "import datetime"
   ]
  },
  {
   "cell_type": "code",
   "execution_count": 19,
   "id": "d895ec05-51be-420e-8c87-ec3329d270ce",
   "metadata": {},
   "outputs": [],
   "source": [
    "def download_posts(subreddit,post_file,iterations = 25):\n",
    "    \"\"\"Downloads posts from given subreddit sequentially storing them in a csv\n",
    "    \n",
    "    subreddit  -- the subreddit to sarch\n",
    "    post_file  -- the filepath to store/append data to\n",
    "    iterations -- number of iterations to perform (100 posts per iteration)\n",
    "    \"\"\"\n",
    "    \n",
    "    url = 'https://api.pushshift.io/reddit/search/submission'\n",
    "    \n",
    "    if os.path.exists(post_file): #load from existing postfile\n",
    "        df = pd.read_csv(post_file)\n",
    "        before = df.iloc[-1]['created_utc']\n",
    "    else:\n",
    "        df=pd.DataFrame()\n",
    "        before = int(time.time()) #get current time\n",
    "    \n",
    "    params = {\n",
    "            'subreddit' : subreddit,\n",
    "            'size':100,\n",
    "            'before':before\n",
    "        }\n",
    "\n",
    "    for i in tqdm(range(iterations)):\n",
    "        try:\n",
    "            res = requests.get(url, params)\n",
    "            status = res.status_code\n",
    "            res_json = res.json()\n",
    "            if status !=200:\n",
    "                print(status)\n",
    "            \n",
    "            data = res_json['data']\n",
    "            if len(data)==0:\n",
    "                print('End of subreddit')\n",
    "                break\n",
    "            df = df.append(pd.DataFrame(data))\n",
    "            params['before']=df.iloc[-1]['created_utc']\n",
    "\n",
    "        except:\n",
    "            time.sleep(60)\n",
    "\n",
    "        df.to_csv(post_file,index=False) #save out\n",
    "\n",
    "\n"
   ]
  },
  {
   "cell_type": "code",
   "execution_count": 20,
   "id": "c03fdc04-1d16-47ab-894d-2e932463b208",
   "metadata": {},
   "outputs": [
    {
     "data": {
      "application/vnd.jupyter.widget-view+json": {
       "model_id": "9a8d338e584043b29874da4414115e27",
       "version_major": 2,
       "version_minor": 0
      },
      "text/plain": [
       "  0%|          | 0/1 [00:00<?, ?it/s]"
      ]
     },
     "metadata": {},
     "output_type": "display_data"
    },
    {
     "name": "stdout",
     "output_type": "stream",
     "text": [
      "End of subreddit\n"
     ]
    }
   ],
   "source": [
    "subreddit = 'ChicksWithGuns'\n",
    "postfile = f'Subreddit Posts/{subreddit}.csv'\n",
    "download_posts(subreddit,postfile,1)"
   ]
  },
  {
   "cell_type": "code",
   "execution_count": null,
   "id": "457a029f-bd27-446a-8a79-a348e3091fe8",
   "metadata": {},
   "outputs": [],
   "source": [
    "#may need to check for duplicate images"
   ]
  },
  {
   "cell_type": "code",
   "execution_count": null,
   "id": "1706c2ff-6bfa-45bf-a7c6-f401aec02552",
   "metadata": {},
   "outputs": [],
   "source": []
  },
  {
   "cell_type": "code",
   "execution_count": null,
   "id": "196c111d-a892-4a0c-8d19-1023abe4ff54",
   "metadata": {},
   "outputs": [],
   "source": []
  },
  {
   "cell_type": "code",
   "execution_count": null,
   "id": "cf54e37b-047b-4279-9b99-236030bf91c1",
   "metadata": {},
   "outputs": [],
   "source": []
  },
  {
   "cell_type": "code",
   "execution_count": null,
   "id": "1599b49e-d3f1-422a-823e-12d32133d617",
   "metadata": {},
   "outputs": [],
   "source": []
  },
  {
   "cell_type": "code",
   "execution_count": null,
   "id": "d2c6bf11-734b-4102-80e2-c9db73138702",
   "metadata": {},
   "outputs": [],
   "source": []
  }
 ],
 "metadata": {
  "kernelspec": {
   "display_name": "Python 3 (ipykernel)",
   "language": "python",
   "name": "python3"
  },
  "language_info": {
   "codemirror_mode": {
    "name": "ipython",
    "version": 3
   },
   "file_extension": ".py",
   "mimetype": "text/x-python",
   "name": "python",
   "nbconvert_exporter": "python",
   "pygments_lexer": "ipython3",
   "version": "3.9.7"
  }
 },
 "nbformat": 4,
 "nbformat_minor": 5
}
