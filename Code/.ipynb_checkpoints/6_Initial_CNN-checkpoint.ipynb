{
 "cells": [
  {
   "cell_type": "code",
   "execution_count": 1,
   "id": "4fabad1b",
   "metadata": {},
   "outputs": [],
   "source": [
    "import tensorflow as tf\n",
    "from tensorflow import keras\n",
    "from tensorflow.keras import layers, models\n",
    "from tensorflow.keras.layers import Conv2D, MaxPooling2D, Dense"
   ]
  },
  {
   "cell_type": "code",
   "execution_count": 2,
   "id": "d5405071",
   "metadata": {},
   "outputs": [
    {
     "name": "stdout",
     "output_type": "stream",
     "text": [
      "Found 5082 files belonging to 2 classes.\n",
      "Using 4066 files for training.\n",
      "Found 5082 files belonging to 2 classes.\n",
      "Using 1016 files for validation.\n"
     ]
    }
   ],
   "source": [
    "batch_size= 32\n",
    "training=keras.utils.image_dataset_from_directory('dataset_1',\n",
    "                                              batch_size=batch_size,\n",
    "                                             validation_split =0.2,\n",
    "                                             subset ='training',\n",
    "                                             seed=42,\n",
    "                                             image_size=(256,256),)\n",
    "val = keras.utils.image_dataset_from_directory('dataset_1',\n",
    "                                              batch_size=batch_size,\n",
    "                                             validation_split =0.2,\n",
    "                                             subset ='validation',\n",
    "                                             seed=42,\n",
    "                                             image_size=(256,256),)"
   ]
  },
  {
   "cell_type": "code",
   "execution_count": 3,
   "id": "d41f6869",
   "metadata": {},
   "outputs": [],
   "source": [
    "#AUTOTUNE = tf.data.AUTOTUNE"
   ]
  },
  {
   "cell_type": "code",
   "execution_count": 4,
   "id": "61ea5e61",
   "metadata": {},
   "outputs": [],
   "source": [
    "#training.cache().shuffle(1000).prefetch(buffer_size=AUTOTUNE)\n",
    "#val.cache().prefetch(buffer_size=AUTOTUNE)\n"
   ]
  },
  {
   "cell_type": "code",
   "execution_count": null,
   "id": "b84d2964",
   "metadata": {},
   "outputs": [],
   "source": []
  },
  {
   "cell_type": "code",
   "execution_count": 5,
   "id": "f99831c1",
   "metadata": {},
   "outputs": [],
   "source": [
    "model = models.Sequential()\n",
    "model.add(layers.Rescaling(1./255,input_shape=(256,256,3)))\n",
    "model.add(Conv2D(256,(3,3),padding='Same',activation='relu'))\n",
    "model.add(Conv2D(256,(3,3),padding='Same',activation='relu'))\n",
    "model.add(MaxPooling2D(2,2))\n",
    "model.add(Conv2D(512,(3,3),padding='Same',activation='relu'))\n",
    "model.add(Conv2D(512,(3,3),padding='Same',activation='relu'))\n",
    "model.add(MaxPooling2D(2,2))\n",
    "\n",
    "model.add(layers.Flatten())\n",
    "model.add(Dense(512,activation='relu'))\n",
    "model.add(Dense(1,activation='sigmoid'))\n",
    "\n"
   ]
  },
  {
   "cell_type": "code",
   "execution_count": 8,
   "id": "182bc7d2",
   "metadata": {},
   "outputs": [
    {
     "name": "stdout",
     "output_type": "stream",
     "text": [
      "Model: \"sequential\"\n",
      "_________________________________________________________________\n",
      " Layer (type)                Output Shape              Param #   \n",
      "=================================================================\n",
      " rescaling (Rescaling)       (None, 256, 256, 3)       0         \n",
      "                                                                 \n",
      " conv2d (Conv2D)             (None, 256, 256, 256)     7168      \n",
      "                                                                 \n",
      " conv2d_1 (Conv2D)           (None, 256, 256, 256)     590080    \n",
      "                                                                 \n",
      " max_pooling2d (MaxPooling2D  (None, 128, 128, 256)    0         \n",
      " )                                                               \n",
      "                                                                 \n",
      " conv2d_2 (Conv2D)           (None, 128, 128, 512)     1180160   \n",
      "                                                                 \n",
      " conv2d_3 (Conv2D)           (None, 128, 128, 512)     2359808   \n",
      "                                                                 \n",
      " max_pooling2d_1 (MaxPooling  (None, 64, 64, 512)      0         \n",
      " 2D)                                                             \n",
      "                                                                 \n",
      " flatten (Flatten)           (None, 2097152)           0         \n",
      "                                                                 \n",
      " dense (Dense)               (None, 512)               1073742336\n",
      "                                                                 \n",
      " dense_1 (Dense)             (None, 1)                 513       \n",
      "                                                                 \n",
      "=================================================================\n",
      "Total params: 1,077,880,065\n",
      "Trainable params: 1,077,880,065\n",
      "Non-trainable params: 0\n",
      "_________________________________________________________________\n"
     ]
    }
   ],
   "source": [
    "model.summary()"
   ]
  },
  {
   "cell_type": "code",
   "execution_count": 9,
   "id": "78ed6073",
   "metadata": {},
   "outputs": [],
   "source": [
    "model.compile(optimizer='sgd',loss=tf.keras.losses.BinaryCrossentropy(),metrics=['accuracy'])"
   ]
  },
  {
   "cell_type": "code",
   "execution_count": null,
   "id": "b4239112",
   "metadata": {},
   "outputs": [
    {
     "name": "stdout",
     "output_type": "stream",
     "text": [
      "Epoch 1/10\n"
     ]
    },
    {
     "name": "stderr",
     "output_type": "stream",
     "text": [
      "2022-05-09 18:57:38.825897: W tensorflow/core/platform/profile_utils/cpu_utils.cc:128] Failed to get CPU frequency: 0 Hz\n"
     ]
    },
    {
     "name": "stdout",
     "output_type": "stream",
     "text": [
      " 28/128 [=====>........................] - ETA: 10:11:57 - loss: 0.6860 - accuracy: 0.5525"
     ]
    }
   ],
   "source": [
    "epochs = 10\n",
    "history = model.fit(training, validation_data=val,epochs=epochs)"
   ]
  },
  {
   "cell_type": "code",
   "execution_count": null,
   "id": "e0c17afa",
   "metadata": {},
   "outputs": [],
   "source": []
  }
 ],
 "metadata": {
  "kernelspec": {
   "display_name": "Python 3 (ipykernel)",
   "language": "python",
   "name": "python3"
  },
  "language_info": {
   "codemirror_mode": {
    "name": "ipython",
    "version": 3
   },
   "file_extension": ".py",
   "mimetype": "text/x-python",
   "name": "python",
   "nbconvert_exporter": "python",
   "pygments_lexer": "ipython3",
   "version": "3.9.12"
  }
 },
 "nbformat": 4,
 "nbformat_minor": 5
}
