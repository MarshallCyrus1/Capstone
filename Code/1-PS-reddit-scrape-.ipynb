{
 "cells": [
  {
   "cell_type": "code",
   "execution_count": 26,
   "id": "516ea46e-2f76-4d08-82e1-19125b90ba75",
   "metadata": {},
   "outputs": [],
   "source": [
    "import requests\n",
    "import pandas as pd\n",
    "from tqdm.notebook import tqdm\n",
    "from pprint import pprint\n",
    "import time\n",
    "import os\n",
    "import datetime"
   ]
  },
  {
   "cell_type": "code",
   "execution_count": 27,
   "id": "d895ec05-51be-420e-8c87-ec3329d270ce",
   "metadata": {},
   "outputs": [],
   "source": [
    "def download_posts(subreddit,post_file,iterations = 25):\n",
    "    \"\"\"Downloads posts from given subreddit sequentially storing them in a csv\n",
    "    \n",
    "    subreddit  -- the subreddit to sarch\n",
    "    post_file  -- the filepath to store/append data to\n",
    "    iterations -- number of iterations to perform (100 posts per iteration)\n",
    "    \"\"\"\n",
    "    \n",
    "    url = 'https://api.pushshift.io/reddit/search/submission'\n",
    "    \n",
    "    if os.path.exists(post_file): #load from existing postfile\n",
    "        df = pd.read_csv(post_file)\n",
    "        before = df.iloc[-1]['created_utc']\n",
    "    else:\n",
    "        df=pd.DataFrame()\n",
    "        before = int(time.time()) #get current time\n",
    "    \n",
    "    params = {\n",
    "            'subreddit' : subreddit,\n",
    "            'size':100,\n",
    "            'before':before\n",
    "        }\n",
    "\n",
    "    for i in tqdm(range(iterations)):\n",
    "        try:\n",
    "            res = requests.get(url, params)\n",
    "            status = res.status_code\n",
    "            res_json = res.json()\n",
    "            if status !=200:\n",
    "                print(status)\n",
    "            \n",
    "            data = res_json['data']\n",
    "            if len(data)==0:\n",
    "                print('End of subreddit')\n",
    "                break\n",
    "            df = df.append(pd.DataFrame(data))\n",
    "            params['before']=df.iloc[-1]['created_utc']\n",
    "\n",
    "        except:\n",
    "            time.sleep(60)\n",
    "\n",
    "        df.to_csv(post_file,index=False) #save out\n",
    "\n",
    "\n"
   ]
  },
  {
   "cell_type": "code",
   "execution_count": 28,
   "id": "c03fdc04-1d16-47ab-894d-2e932463b208",
   "metadata": {},
   "outputs": [
    {
     "data": {
      "application/vnd.jupyter.widget-view+json": {
       "model_id": "61f9cdfd302c40a195f7ae5ccc985320",
       "version_major": 2,
       "version_minor": 0
      },
      "text/plain": [
       "  0%|          | 0/1 [00:00<?, ?it/s]"
      ]
     },
     "metadata": {},
     "output_type": "display_data"
    },
    {
     "name": "stdout",
     "output_type": "stream",
     "text": [
      "End of subreddit\n"
     ]
    }
   ],
   "source": [
    "subreddit = 'ChicksWithGuns'\n",
    "postfile = f'Subreddit Posts/{subreddit}.csv'\n",
    "download_posts(subreddit,postfile,1)"
   ]
  },
  {
   "cell_type": "code",
   "execution_count": 35,
   "id": "fa34d9d7-0124-4962-ba30-518d511711a4",
   "metadata": {},
   "outputs": [
    {
     "data": {
      "application/vnd.jupyter.widget-view+json": {
       "model_id": "459e21729ba74954b212d9f62b832aa0",
       "version_major": 2,
       "version_minor": 0
      },
      "text/plain": [
       "  0%|          | 0/200 [00:00<?, ?it/s]"
      ]
     },
     "metadata": {},
     "output_type": "display_data"
    },
    {
     "name": "stdout",
     "output_type": "stream",
     "text": [
      "End of subreddit\n"
     ]
    }
   ],
   "source": [
    "subreddit = 'ChicksWithGuns'\n",
    "postfile = f'Subreddit Posts/{subreddit}.csv'\n",
    "download_posts(subreddit,postfile,200)"
   ]
  },
  {
   "cell_type": "code",
   "execution_count": 29,
   "id": "457a029f-bd27-446a-8a79-a348e3091fe8",
   "metadata": {
    "tags": []
   },
   "outputs": [],
   "source": [
    "#may need to check for duplicate images"
   ]
  },
  {
   "cell_type": "code",
   "execution_count": null,
   "id": "4eef81b3-e60d-49bd-894d-5233a3b427a4",
   "metadata": {},
   "outputs": [],
   "source": [
    "## Checking for endings of url's for picture file types"
   ]
  },
  {
   "cell_type": "code",
   "execution_count": 30,
   "id": "1706c2ff-6bfa-45bf-a7c6-f401aec02552",
   "metadata": {
    "scrolled": true,
    "tags": []
   },
   "outputs": [
    {
     "data": {
      "text/plain": [
       "array(['jpg', 'ugdxmr', 'hf0al127njv81', 'uag7r4', 'ua5xu6', 'u89h9s',\n",
       "       'u81o3v', 'u6ashl', 'u59e13', 'u50e5p', 'u4yfu9', 'tzbcht',\n",
       "       'tyl9cg', 'twu9a3', 'twlszs', 'tw9kjm', 'tvey9e', 'tvatlq',\n",
       "       'tv6g9o', 'utilize-existing-vehicle-organizations', 'trnfqi',\n",
       "       'tpbnjy', 'tp89jm', 'tnfjxq', 'tne0kd', 'GuwSTaO', 'pUmZVM2',\n",
       "       'thvo3w', 'thkv4q', 'tfls2i', 'tcgsxd', 'tc8a0s', 'tbpxq9', 'png',\n",
       "       'tazini', 'tafrkl', 't6wf33', 't6u4o6', 'eL7ywAn', 't584sa',\n",
       "       't58339', 't4nrsq', 'NxxfGzn', 'sz03x4', 'sychsw', 'sycgvh',\n",
       "       'sxnjdj', 'sxkdht', 'b1i9cmh', 'sw6w7e', 'sw6upv', 'xsxkM2z',\n",
       "       'sv46ni', 'sv3m6g', 'aBtNXRV', 'sumka7', 'Tctqfqf', '', 'pZW4LnS',\n",
       "       'ssuldv', 'sryvc5', 'sr1uz7', '4TLb9s9', 'slg29u', 'skfmno',\n",
       "       'sg08j8', 'seqckw', 'scle8s', 'sblh10', 'say669', 's5ovma',\n",
       "       's5i4ot', 's3ffd8', 's3fazs', 's3e7wy', 's3e20g', 's1wq3a',\n",
       "       's1iq4l', 's10f3s', 'rutueq', 'rutsmp', 'rtobu0', 'rs2tlr',\n",
       "       'rs058i', 'rq3p0x', 'rpevsm', 'rpaoty', 'rp2qpc', '_U1yLWN_4BQ',\n",
       "       'roz04a', 'row6cw', 'romc7h', 'roiixo', 'rnj7h5',\n",
       "       'watch?v=_U1yLWN_4BQ&amp;list=LL&amp;index=4', 'tbqUCoD', 'rkb406',\n",
       "       'blaapktu91681', 'rf6tf0', 'rd9s79', 'rb3gg3', 'rafy50', 'r74jy1',\n",
       "       'r5yono', 'r1ij4k', 'vu22adkaalz71', 'qp3vog', 'qodueq', 'qnwoh0',\n",
       "       'ql740k', 'qkdjrx', 'qkdeue', 'qk8e4y', 'qjzio1', 'qjprfn',\n",
       "       'qis1jn', 'qhl9cs', 'qgkqlm', 'qge6l0', 'qf2f5l', 'qex1dr',\n",
       "       'ky7tmp6blnu71', 'qc5tnc', 'qc4k5s', 'qbiocm', 'qbae9n', 'qba9z7',\n",
       "       'q8g01b', 'rgUo5QN', 'risG7AV', 'q5qjzu', 'q58ljw', 'q4czwh',\n",
       "       'q45wcc', 's7Bp8AwPozPk5X39NlmUXITnzT_OWaCTgH2PBjkKOJg',\n",
       "       'Id04uDjvZTqHL6z88P6_nTIVP7pzBgZ0KlTzbgbIkpg', 'pzcf97', 'pz0zs1',\n",
       "       'pyd2im', 'pwyzta', 'pwkcsd', 'pu3sgg', 'yrk298ahmvo71',\n",
       "       'pkoyccg7too71', 'pq2nqe', 'pp62pp', 'pp5m7v',\n",
       "       'C4wY5DmUz5ah7iX8p6ZD-7q9x3qndHyPHBttaOPAV3M', 'pmhn6x', 'pljr5w',\n",
       "       'p9P4Wr7QnX', 'pjbuag', 'ph4cj0', 'pe5m8y', 'pdvvgw', 'pc0gbf',\n",
       "       'pbunc7', 'pb2bc4', 'p82lwl', 'p7vu08', 'p779ig', 'p5rgd7',\n",
       "       'p4x3x6', 'p48qb6', 'p2tmf5', 'p2dm59', 'p258la', 'p22kq7',\n",
       "       'p1j8xn', 'p1hefw', 'ozw3op', 'ozrmlw', 'ozlkkv', 'oy5ycy',\n",
       "       'owtb2e', 'ovm6pj', 'ouzy2o', 'ouyuhi', 'ouoloi', 'oubywq',\n",
       "       'otc82q', 'otc5p9', 'os4ir0', 'opk8x6', 'ooit3g', 'oodyr8',\n",
       "       'oo69yv', 'on7nnp', 'on1v95', 'omj6mg', 'ol9s75', 'okd031',\n",
       "       'oirsng', 'oib2nm', 'ogucyl', 'og1f8e', 'odmlqw', 'odmjgn',\n",
       "       'odmhft', 'odmfhe', 'odmdrr', 'odmczy', 'odmbgb', 'ocv4ts',\n",
       "       '777diamonds', 'oc6pfa', 'o8gq6u', 'o7vxzg', 'o76cwp', 'com',\n",
       "       'o5n20q', 'o5mqq5', 'o4nc46', 'x7E5Z3P', 'NzQLeoE', 'o1u4q1',\n",
       "       'nwz254', '?', 'nw4r92', '0ZBZjCd', 'ntutmf', 'ntureu',\n",
       "       'watch?v=JMZPJSUEC2E', 'watch?v=7cuvFASFOlk', 'nr1wiv', 'np6l8j',\n",
       "       'no78cm', 'gif', 'nhhshd', 'nhbn5o', 'ngs7ou', 'nfrlie', 'nf11gb',\n",
       "       'ne8iwi', 'ndyu4p', 'nduzpz', 'nbocm1', 'nbck6g', 'naxoch',\n",
       "       'na6rxr', '1ash5zm4r4y61', 'n8dsqj', 'n8615s', 'c3rwywgagqx61',\n",
       "       '9dm1grb49cx61', 'n5ha2e', 'n55a8b', 'n4uw8u', 'n4l3ia',\n",
       "       '2wcx40uilyw61', 'n3ugli', 'vc0koqmc3tw61', 'n3dff4', 'n0fmau',\n",
       "       '1dnw9iy4krv61', 'mzmcyr', 'mzdnoh', 'mz34cu', 'sdyx0jsgpev61',\n",
       "       'myj6av', 'myip95', 'myilmg', '7yqv1f36y7v61', 'mxo46s',\n",
       "       'jpg?1555878356', 'EroKeyGXUAAcwSW?format=jpg&amp;name=large',\n",
       "       'jpg?1564480018', 'mtyj1k', 'mtqbed', 'mtjkix', 'FSsNeEvvMHI',\n",
       "       'msl7hv', 'msjx90', 'ms64te', 'mr3ibb', 'mqjz27', 'mqjats',\n",
       "       'mmfkkq', 'mlzs2a', 'mlzddb', 'mlz43z', 'mlpcmz', 'mljpez',\n",
       "       'mldtvn', 'mldt1z', 'mkdejy', 'mkcufq', 'mjxeki', 'mjjae7',\n",
       "       'mj6o2u', 'miwh27', 'milwc2', 'mhnc85', 'mh6egn', 'mgzl4n',\n",
       "       'mgzhst', 'mfiify', 'm6pjw5', 'm5zbi0', '7pEvvUQ', 'm28azk',\n",
       "       'lwue43', 'lo754q', 'lnzb9b', 'lnz9ms', 'lmyo3g', 'lj2jdi',\n",
       "       'liy679', 'mX5-KOoiYic', 'mobile', 'l9a5u1', 'l84xtw', 'l7jyuc',\n",
       "       'l6p0av', 'gu51874460', 'l2035m', 'th', 'leh2s32wic661', 'kswuio',\n",
       "       '8f3wtgqrys961', 'krjdbf', 'krjczg', 'EtEqQWzTh-w', 'kn9vy2',\n",
       "       'kn9rep', 'qtgjjgi7d2861', 'klhxw6', 'kk9z6f', 'kk87eg', 'kjym9u',\n",
       "       'net', 'kj009h', 'kiov7z', 'kimd60', 'ki9g78', 'khh6s8', 'kh8bad',\n",
       "       'kfm4ko', 'ke1q4o', 'ke08nu', 'vhewcg9yq1561', 'kc5rsc', 'kbgh2g',\n",
       "       'kbaljq', 'kafe7d', 'k9qbzg', 'k952z5', 'k72kex', 'k6fqfy',\n",
       "       'k6fodo', 'k60jkn', 'k598iv', 'k4l4dl', 'k4hamt', 'k35eac',\n",
       "       'k28lrk', 'k1cdrx', 'jywb1r', 'jyw06c', 'jv99zg', 'jsaytq',\n",
       "       'js2wq6', 'jrzq1o', 'jrogfh', 'jrluy4', 'jrdf5f', 'jr0n98',\n",
       "       'jqtqcn', 'jqjijh', 'jq6grk', 'jmtuxr', 'Analyse-du-site-web',\n",
       "       'ji5zpn', 'jgf7lo', 'jfj24k', 'must-do-things-after-a-dui-arrest',\n",
       "       'jcvxpy', 'jcmpmn', 'mp4', '700dlgmmk2t51', 'jahyvc', 'jaep9t',\n",
       "       'j8al5c', 'j73fl5', 'j6dyit', 'j4nl10', 'j44snb', 'j43n1d',\n",
       "       'j430ns', 'j3lvve', 'j2av85', 'j1m9wn', 'j15t2p', 'iyr7nl',\n",
       "       'ix1pox', 'K7eZpwC', 'iw7hlm', 'iu4afo', 'watch?v=v3fGu13G9Dk',\n",
       "       'is5bxq', 'irc1fo', 'iqz3cq', 'ipnu0p', 'ip979u', 'iod20e',\n",
       "       'iobsk8', 'au', '002u8qtzg9i51', 'ichfz3', 'i61h9b', 'html',\n",
       "       'swiss-vans-uk', 'hw9weu', 'e14ve2nbnp851',\n",
       "       'jadwal-sabung-ayam-online-s128-dan-sv388-19-juni-2020-2020-06-19',\n",
       "       '?igshid=1enkxfjk7xgpv', 'zrefqigyv6w41',\n",
       "       'caringvaluablehoneybadger', 'watch?v=F9wNfVhh6Ig', 'B01J4O0T4E',\n",
       "       'B07CMST25Q', 'kNu4xP1',\n",
       "       'jpg?maxwidth=640&amp;shape=thumb&amp;fidelity=medium', 'UHdup8a',\n",
       "       'watch?v=-ulbZLklkwI', 'upper-east-side-apartments-for-sale-guide',\n",
       "       'cUYWmbzLu5iK4etZ7',\n",
       "       'cost-of-living-in-honolulu--hawaii?show_share=1', 'pDIYkzu',\n",
       "       'viagra', 'ai', '8mz2svvhyzg21',\n",
       "       'arendehantering-arendehanteringssystem',\n",
       "       'SleepySillyKomododragon', 'Topglamboutique', 'io',\n",
       "       'rsgbl1sfekx11', '1054815144633606145', 'WMzIMAY', 'kSuzQA4CZb4',\n",
       "       'AncientLazyChipmunk', 'sPartcQ', 'watch?v=r7Tvx2ex08M', 'rZSHomb',\n",
       "       'images%2Ft2_170u0s%2Fby5lsyefuvz01', 'THCwT8C',\n",
       "       'attribution_link?a=3SrFbLrna6Y&amp;u=%2Fwatch%3Fv%3DxL1zyEzHwvQ%26feature%3Dshare',\n",
       "       '8kwWCHs6eUQ', 'AliveHighlevelErne', 'IFzLK', 'MPHTh',\n",
       "       'watch?v=0JqOo1Obg2I', 'XztfL3k', 'GrandioseRareCreature',\n",
       "       'attribution_link?a=WkicUJCU4Ks&amp;u=%2Fwatch%3Fv%3Dva4KVFBRNzM%26feature%3Dshare',\n",
       "       'attribution_link?a=lotrbhMyOZ0&amp;u=%2Fwatch%3Fv%3DmhPDcgTy5-I%26feature%3Dshare',\n",
       "       'HilariousMetallicBumblebee', 'bZ84LEs', '8ZdF0l2', 'm7acMiN',\n",
       "       'vDc03', 'gifv', 'sVMoOLh92S4?t=41s', 'JbMdPStxD10',\n",
       "       'UnluckySnarlingAmericanblackvulture', 'B06W55X3KL',\n",
       "       '?utm_source=reddit&amp;utm_medium=post', 'imVhWd2',\n",
       "       'attribution_link?a=4nOpRsm32I0&amp;u=%2Fwatch%3Fv%3DxDd03lOfvvM%26feature%3Dshare',\n",
       "       'opZn9',\n",
       "       'attribution_link?a=1OFeFax6YL0&amp;u=%2Fwatch%3Fv%3DAHI0YDSa4tQ%26feature%3Dshare',\n",
       "       'Lamebrains-2-Promo-Becky-694976062', 'J1Fiw',\n",
       "       'watch?v=4KnAzpi4avo',\n",
       "       'attribution_link?a=8nPvtXd-T78&amp;u=%2Fwatch%3Fv%3DbD9U0amZ64U%26feature%3Dshare',\n",
       "       'hVoMIA9', 'dhG8L',\n",
       "       'attribution_link?a=cE__6hKqwJY&amp;u=%2Fwatch%3Fv%3DKSF841otNko%26feature%3Dshare',\n",
       "       'attribution_link?a=sTJAZ6ZiUo8&amp;u=%2Fwatch%3Fv%3DYhBzOj7DdHk%26feature%3Dshare',\n",
       "       'attribution_link?a=wAWOcSHXUqY&amp;u=%2Fwatch%3Fv%3Dg4lQAyjKxMw%26feature%3Dshare',\n",
       "       'RmFqP',\n",
       "       'attribution_link?a=RY5bdnBLu6c&amp;u=%2Fwatch%3Fv%3DiV5_yLvtCC0%26feature%3Dshare',\n",
       "       '8DPJN70', 'jpg?w=768&amp;s=79b4681b92debcc7b65e3f88c3dac54f',\n",
       "       'attribution_link?a=DHHdBpS_FqI&amp;u=%2Fwatch%3Fv%3D2nPKCF77eu0%26feature%3Dshare',\n",
       "       'LvBoLdc', 'WelldocumentedPowerlessAlaskankleekai',\n",
       "       'watch?v=uHhLYaFaHLI', 'php',\n",
       "       'attribution_link?a=jE1c_UNUC6I&amp;u=%2Fwatch%3Fv%3DRx1MLNg0sWk%26feature%3Dshare',\n",
       "       'webm',\n",
       "       'attribution_link?a=kvCyLJeAdoE&amp;u=%2Fwatch%3Fv%3DjlugRuOoR1o%26feature%3Dshare',\n",
       "       'attribution_link?a=mZwCckYUy7Y&amp;u=%2Fwatch%3Fv%3DR28uCKkvgzs%26feature%3Dshare',\n",
       "       'KYN0',\n",
       "       'attribution_link?a=2C0U29t8iK8&amp;u=%2Fwatch%3Fv%3D9JbwjhQ7gV8%26feature%3Dshare',\n",
       "       'c296b822890b418e89a1598c52d024af?fit=max&amp;h=1536&amp;w=1536&amp;s=9ebb8d5c2462a50c33f842ccc9197839',\n",
       "       'YTfRR', 'JFdEEUm',\n",
       "       'attribution_link?a=0WuLWGoNkqQ&amp;u=%2Fwatch%3Fv%3D7o1LGi1w9TY%26feature%3Dshare',\n",
       "       'd420149ab14448129477f164a63da6f7?fit=max&amp;h=1536&amp;w=1536&amp;s=4017f3a6d15814d9b4ba726459e81311',\n",
       "       'iF4ZN',\n",
       "       'attribution_link?a=lk62RgjpMZw&amp;u=%2Fwatch%3Fv%3D7X82-w0bQN0%26feature%3Dshare',\n",
       "       '9sSN82b',\n",
       "       'attribution_link?a=hmAqyOM-E5U&amp;u=%2Fwatch%3Fv%3Dv9XkLGTfyss%26feature%3Dshare',\n",
       "       'a2iMhzu', 'bZZYHO9', 'QGrVq1g#FlvTf', 'PjDfVrH',\n",
       "       'attribution_link?a=6LALGC1_SI8&amp;u=%2Fwatch%3Fv%3Drx8xmi4j13Y%26feature%3Dshare',\n",
       "       'attribution_link?a=PVcjQlu_24s&amp;u=%2Fwatch%3Fv%3DB3eM5DyUFVY%26feature%3Dshare',\n",
       "       'attribution_link?a=YadeH-5bhYw&amp;u=%2Fwatch%3Fv%3DYQE2kYoHAAo%26feature%3Dshare',\n",
       "       'attribution_link?a=VQ3JwS4raYg&amp;u=%2Fwatch%3Fv%3DBEePVcwXs2g%26feature%3Dshare',\n",
       "       'dwfxk6A', 'asherlaubmusic', 'gKmGm?', 'watch?v=oUkQTXYAF-s',\n",
       "       'attribution_link?a=qRvJC6ZZuI8&amp;u=%2Fwatch%3Fv%3DiJvKT3izq6Q%26feature%3Dshare',\n",
       "       'attribution_link?a=QIRDT5nZRJU&amp;u=%2Fwatch%3Fv%3DqoWu_GWuT-A%26feature%3Dshare',\n",
       "       'QkfZE', 'AI8Vt', 'watch?v=Um-Dc0hPAFk',\n",
       "       'watch?v=wEOvnu3qZ28&amp;t=1s',\n",
       "       'attribution_link?a=QF3hUMpPvqo&amp;u=%2Fwatch%3Fv%3DpwIvhI41SgU%26feature%3Dshare',\n",
       "       'c5f029bc2c70492387271df37e01bc57?fit=max&amp;h=1536&amp;w=1536&amp;s=6ed14ec16ce2721531030aae81b34685',\n",
       "       '5bRexWB', '1A5vn5e', 'watch?v=6tT0BX0vGus', 'BTLK3', 'TfR43',\n",
       "       'zhFrd', 'VkmtZhw', 'be', 'LgtN6O2', 'watch?v=BplxfrVZosc#t=13',\n",
       "       'srDYSdY', 'By25SdL', '856ZCNz', 'Ki9qOlx', 'ZZdyHuW', 'QZeNr',\n",
       "       'YATwr', 'oBxKak1UMis', 'VaxFfC4', 'cAqyD',\n",
       "       'attribution_link?a=F5O1uqy6ZrM&amp;u=%2Fwatch%3Fv%3D6WngoffA-hM%26feature%3Dshare',\n",
       "       'tKdXU3yzbwo',\n",
       "       'ref=sr_1_1?s=instant-video&amp;ie=UTF8&amp;qid=1467438640&amp;sr=1-1&amp;keywords=The+Mother+of+All+Prone+Videos',\n",
       "       'attribution_link?a=96CL4Jn1aoI&amp;u=%2Fwatch%3Fv%3DH02jHLcXKlg%26feature%3Dshare',\n",
       "       'attribution_link?a=fHMdBZalPLc&amp;u=%2Fwatch%3Fv%3DJW469V-5f9M%26feature%3Dshare',\n",
       "       'attribution_link?a=l5GFNzWIW6s&amp;u=%2Fwatch%3Fv%3D-0VHf9RSUNc%26feature%3Dshare',\n",
       "       '0IXBhvD',\n",
       "       'attribution_link?a=eHMq6UGC3a4&amp;u=%2Fwatch%3Fv%3DWSmhIffo070%26feature%3Dshare',\n",
       "       'SKNVw69', 'Hz6TlVr',\n",
       "       'attribution_link?a=p1s6xMgCcZM&amp;u=%2Fwatch%3Fv%3DseHWg3eo6n4%26feature%3Dshare',\n",
       "       'c8757548f4c743f6adcc2ba46e05abbd?fit=max&amp;h=1536&amp;w=1536&amp;s=433d9359a3459adcfa0c842107497585',\n",
       "       'fd307f7e860f46429f437039a76a779c?fit=max&amp;h=1536&amp;w=1536&amp;s=8a3e866b921fb156157405ede0235c32',\n",
       "       'KY0toX7', '5dxJcwj', 'aPjCs7g',\n",
       "       'attribution_link?a=ioFAhfpeBLQ&amp;u=%2Fwatch%3Fv%3D7f2keiOR_P0%26feature%3Dshare',\n",
       "       'attribution_link?a=YZRkjKt1oYA&amp;u=%2Fwatch%3Fv%3DBUIebrUgJTI%26feature%3Dshare',\n",
       "       's31RTfU', 'eovF5bK',\n",
       "       'attribution_link?a=MY4XQMI-o60&amp;u=%2Fwatch%3Fv%3DcNSsvMx-Urw%26feature%3Dshare',\n",
       "       'attribution_link?a=PBQcgXSk-LA&amp;u=%2Fwatch%3Fv%3DPCLpq8oti9o%26feature%3Dshare',\n",
       "       'Sie73E2', 'H6kGj9r', 'igOpK34', 'naDWtX0',\n",
       "       'attribution_link?a=VW1j_az27Iw&amp;u=%2Fwatch%3Fv%3DfiA_D9VjhiY%26feature%3Dshare',\n",
       "       'attribution_link?a=6bimCf-lMIw&amp;u=%2Fwatch%3Fv%3Dff0m5_QstBo%26feature%3Dshare',\n",
       "       't7xiGAI',\n",
       "       'attribution_link?a=duI_r2QvVJ8&amp;u=%2Fwatch%3Fv%3DtyDSLEshfbI%26feature%3Dshare',\n",
       "       'attribution_link?a=TXyQ713T7rM&amp;u=%2Fwatch%3Fv%3D_kYhG8UbIuU%26feature%3Dshare',\n",
       "       'kXbhf_AcptE', 'zKNOP',\n",
       "       'attribution_link?a=Q_gmq3KvHoM&amp;u=%2Fwatch%3Fv%3DkQzt6rz2120%26feature%3Dshare',\n",
       "       'K2lZbD6',\n",
       "       'attribution_link?a=uZorxaC2B44&amp;u=%2Fwatch%3Fv%3DMad5MQK3DQA%26feature%3Dshare',\n",
       "       'attribution_link?a=nf0y1L3pKrY&amp;u=%2Fwatch%3Fv%3DqLCB7OaIPXU%26feature%3Dshare',\n",
       "       'attribution_link?a=nrbhVQXjQKo&amp;u=%2Fwatch%3Fv%3D5gCbJGdL-7I%26feature%3Dshare',\n",
       "       'attribution_link?a=XcTLbfj_Ybc&amp;u=%2Fwatch%3Fv%3DKlPXwDaMIFI%26feature%3Dshare',\n",
       "       'attribution_link?a=lpIaN4Y9P54&amp;u=%2Fwatch%3Fv%3DF9BcUIVPcBk%26feature%3Dshare',\n",
       "       'aUvdpGz',\n",
       "       'attribution_link?a=185DDyT6_qI&amp;u=%2Fwatch%3Fv%3DR28uCKkvgzs%26feature%3Dshare',\n",
       "       'attribution_link?a=QkHvq505fYw&amp;u=%2Fwatch%3Fv%3Dj-pEwO8j5rM%26feature%3Dshare',\n",
       "       'cCfcHHS',\n",
       "       'attribution_link?a=BfA4nK42H7k&amp;u=%2Fwatch%3Fv%3DoFgNews1tPU%26feature%3Dshare',\n",
       "       'DwU9ftn',\n",
       "       'attribution_link?a=eFvmkUwsBK0&amp;u=%2Fwatch%3Fv%3D4BYEYHoRC2Q%26feature%3Dshare',\n",
       "       'attribution_link?a=LIhCsyim9pU&amp;u=%2Fwatch%3Fv%3DlBY-3-qeDBU%26feature%3Dshare',\n",
       "       'OCf5is3XzRvk',\n",
       "       'attribution_link?a=lup1jzfqwqQ&amp;u=%2Fwatch%3Fv%3DyE9HYGP8lAI%26feature%3Dshare',\n",
       "       'watch?v=YvPs57yY5-8', 'xXNCY', 'MOWacuk', '25DUitLwtdEhhAxk1',\n",
       "       'mx32r6EoKmnL', '8y1b9blvzZp', 'php#Z62M0IYPI',\n",
       "       'attribution_link?a=V7ZwB8EbW6g&amp;u=%2Fwatch%3Fv%3DtR5_5JQ1e1U%26feature%3Dshare',\n",
       "       'php#40M5qWkK', 'php#rVSbGUAL', 'php#JZI2nrR', 'php#N73JYprSI9',\n",
       "       'php#yallv3iV', 'php#gQ4NfJlcU', 'php#D1ToWt7QvMg', 'php#SpaeeuZr',\n",
       "       'attribution_link?a=RocSpOoaua0&amp;u=%2Fwatch%3Fv%3DiZBcs27vct4%26feature%3Dshare',\n",
       "       'php#GB2W0e', 'php#SkteX9S', 'php#mBjIZFaQ', 'uajuQE', '783RpneB',\n",
       "       'DMnjrdT', 'php#Tb8_2_rA_eM7Z3', 'watch?v=3bKCCXAb7ok',\n",
       "       'php#Rr9__8Zk', 'php#m_4L_8GyjT', 'php#cE_5J_7d_6iY',\n",
       "       'watch?v=fik83a8cQcQ', '6a_TX9x_cD_', 'x_9G_Lj8c3B_',\n",
       "       '5q_J_Ed8L3_fx', 'watch?v=ecuzXFMficA', 'watch?v=FHoNvii0QR4',\n",
       "       'attribution_link?a=ZQzY2SyraYM&amp;u=%2Fwatch%3Fv%3DXqFbLzdmtK8%26feature%3Dshare',\n",
       "       'ml', 'wPKmuw0',\n",
       "       'attribution_link?a=XhEcIMP6aIQ&amp;u=%2Fwatch%3Fv%3DQ4k_kWeXOIM%26feature%3Dshare',\n",
       "       'qDsuxOB', 'EMOuJOZ', 'ESDmc7n', 'LpTiek8', 'oydJTJ5', 'DPXSljL',\n",
       "       'YZHxE', 'rEtUkkK',\n",
       "       'attribution_link?a=FWrf7Bjuupg&amp;u=%2Fwatch%3Fv%3D39CV6Co31kk%26feature%3Dshare',\n",
       "       'xNEJ92F', 'watch?v=co4cHTy8pzM',\n",
       "       'attribution_link?a=4y3HoCVH3bs&amp;u=%2Fwatch%3Fv%3DfwglLTgaozE%26feature%3Dshare',\n",
       "       'attribution_link?a=3QZ6PJSlQII&amp;u=%2Fwatch%3Fv%3DyER9M-IFMhg%26feature%3Dshare',\n",
       "       'Jfh0x5W', 'RKen4Ze',\n",
       "       'attribution_link?a=-uIqyIjqjI8&amp;u=%2Fwatch%3Fv%3DHBO4PPBsn94%26feature%3Dshare',\n",
       "       'TObxm', 'hqac9Y1',\n",
       "       'attribution_link?a=O7oqAqwRzow&amp;u=%2Fwatch%3Fv%3DeyQGw8sNuuE%26feature%3Dshare',\n",
       "       'QCjt0eD', 'F1rqRjO', 'Ewuzv70', 'kiHlarO',\n",
       "       'attribution_link?a=Pt0yJiYJ_rw&amp;u=%2Fwatch%3Fv%3DjMjwM3NMOF8%26feature%3Dshare',\n",
       "       'DHTAsuD', 'j6smfOz', 'watch?v=rx8xmi4j13Y', '2LQsUGA',\n",
       "       'attribution_link?a=WqsCfkfh-a0&amp;u=%2Fwatch%3Fv%3DYOzIXigWqrw%26feature%3Dshare',\n",
       "       'XkZBzIv', 'e9MFaFN',\n",
       "       'attribution_link?a=1bnVSJxd9KM&amp;u=%2Fwatch%3Fv%3DLO-UIvABp70%26feature%3Dshare',\n",
       "       'attribution_link?a=Njj0ZIG5jow&amp;u=%2Fwatch%3Fv%3DNURjFWRFScc%26feature%3Dshare',\n",
       "       'attribution_link?a=EK22Zgxe-ro&amp;u=%2Fwatch%3Fv%3D_CTe74G-siQ%26feature%3Dshare',\n",
       "       'attribution_link?a=hWCT3xNIjqw&amp;u=%2Fwatch%3Fv%3D59q-ByTQx2g%26feature%3Dshare',\n",
       "       'ODYJciG', 'J0C4qhj', '2eXZ7fc', 'TkjV8AB', 'QKA9wrZ',\n",
       "       'watch?v=BplxfrVZosc', 'd4dZu2l', 'mTf2bwK', 'watch?v=aCZu2LXTqbQ',\n",
       "       'iLQfTBC', 'C62jAhW', 'DirectPassionateGrayreefshark', 'Mjl6hX8',\n",
       "       'pOSuDei', 'DKaWQtM', '8brFJV3',\n",
       "       'attribution_link?a=UWnoSU7E1Kw&amp;u=%2Fwatch%3Fv%3DV6kj9asL_Q0%26feature%3Dshare',\n",
       "       '8oUEh1n', 'oPeOmaQ', 'EpRvFVg', 'NlVrqfM', 'mGAvo2g',\n",
       "       'attribution_link?a=DpvirgwRKpQ&amp;u=%2Fwatch%3Fv%3DnEEBGRWLcDM%26feature%3Dshare',\n",
       "       'yltpiehh', 'watch?v=KZ1BgE4eG6w', '?fref=nf',\n",
       "       'watch?v=14CbZN2qgBg',\n",
       "       'attribution_link?a=-nrgwhk8vYA&amp;u=%2Fwatch%3Fv%3DyPR5FWeyOCQ%26feature%3Dshare',\n",
       "       'attribution_link?a=4b_7elXTZLw&amp;u=%2Fwatch%3Fv%3DIzKGjpQLAxQ%26feature%3Dshare',\n",
       "       'watch?v=TxGqHZARUxQ',\n",
       "       'attribution_link?a=yVInVJZECYw&amp;u=%2Fwatch%3Fv%3DoCe4TNo9-XI%26feature%3Dshare',\n",
       "       'C3yOGpG', 'Vt6kB7R',\n",
       "       'attribution_link?a=gj63YSuHcYA&amp;u=%2Fwatch%3Fv%3D5MtRRNcGiCs%26feature%3Dshare',\n",
       "       'attribution_link?a=NvGL49iYn70&amp;u=%2Fwatch%3Fv%3DOGT4D18Kjkk%26feature%3Dshare',\n",
       "       'BnsBvs1', 'NXkYwST',\n",
       "       'attribution_link?a=d_wjhZnMKYM&amp;u=%2Fwatch%3Fv%3D7keZSi2AIjU%26feature%3Dshare',\n",
       "       'jpg?1', '0BwzA9F,m6Zo1lE', 'w0zTv56', '7sHgz4I', 'fLUWjve',\n",
       "       'attribution_link?a=z4mP6Nwf8q0&amp;u=%2Fwatch%3Fv%3DJHaO4xf2wpE%26feature%3Dshare',\n",
       "       'attribution_link?a=bx9-r73q0Iw&amp;u=%2Fwatch%3Fv%3Dv9XkLGTfyss%26feature%3Dshare',\n",
       "       'attribution_link?a=knFFo8gGQ4Q&amp;u=%2Fwatch%3Fv%3DnU4_uJFbjjI%26feature%3Dshare',\n",
       "       'CA1RQ07',\n",
       "       'attribution_link?a=HVSBm5Dms4g&amp;u=%2Fwatch%3Fv%3DjdrrkuJXjBw%26feature%3Dshare',\n",
       "       'PEgjZ',\n",
       "       'attribution_link?a=WTcjnjYldZg&amp;u=%2Fwatch%3Fv%3DrO7mAp9mn8A%26feature%3Dshare',\n",
       "       'attribution_link?a=Tnz3VeB3PZw&amp;u=%2Fwatch%3Fv%3DdAMFO78v2cI%26feature%3Dshare',\n",
       "       'be&amp;v=kJ4roZu9hlc',\n",
       "       'attribution_link?a=GzCIjJmAQoU&amp;u=%2Fwatch%3Fv%3DkF7l46_lz6Q%26feature%3Dshare',\n",
       "       'attribution_link?a=Cyf-Cgm4xrw&amp;u=%2Fwatch%3Fv%3DDOlc7xP-hEs%26feature%3Dshare',\n",
       "       'attribution_link?a=pbqhzrRptog&amp;u=%2Fwatch%3Fv%3DXSX_BqAgTpg%26feature%3Dshare',\n",
       "       'attribution_link?a=4q7ZRjrXWps&amp;u=%2Fwatch%3Fv%3D7RNEzjY3IV0%26feature%3Dshare',\n",
       "       'attribution_link?a=EU07OlO-8aw&amp;u=%2Fwatch%3Fv%3DUX8-8cx02Jw%26feature%3Dshare',\n",
       "       '2Spi8J3', 'CC1XNvt', 'watch?v=rCfV3D_96BU',\n",
       "       'php?viewkey=1263924427', 'themed-rerun-7', 'ToopQbi',\n",
       "       'vxppoM9,sl9PF6v,asN4kMl,pOSuDei,zBvsUC2,4DZtr28,HpPJSWB,f4eBeLd,Eelrl3c,YBTCUQp,ERTfonr,uNJbhNA,tLlg9WG,RO8mcdy,DgkuhOV,Bs95mD2,rFWkj6L,Mjl6hX8,rshsnaZ,eu1xFCr,InTVtwE,EpRvFVg,FlxOHWN,PEG2CwB,79QPnEf,x2qBtTc,vKrxGra,HYxfXzi,ZuHCP9c,D3GXoM7,CXRtmDW,XPW2jDl,DBCRHvs,tnPPTYt,Dnuls0e,SSlj9w7,yKUt9SK,RJs93UR,GibQkSW,bMCqg2h,8eDrmnP,TJblI1E,hMd0inj,VEwnArp,jIzzOXL,sFOUv4V,MM2tY2c,OvO0K9E,xO5JihF,cJz68Ap,CA1RQ07,wvIC4Kw,oPeOmaQ,LfIUGgc,FKfvUp2,4hDUv9W,ufW54st,ZYLlnNX,NcC9cjf,5qLS1f8,mHPb3pj,iivV1zK,gtXWIFe,qqB5Ng1,z5puIcW,gcVRxHT,Y6wcLNS,go1q9wf,sniU0l0,ZVoZkDo,FhZVBQI,7nSTQlI,dmhjDrn,lev1qTD,0Bj5ZGV,5UlsERV,TqEW72N,jzbA0aW,meyy7Sp,J0C0vLc,VMWPZWB,7sHgz4I,P4IGh1G,TJpaWVa,BnsBvs1,YqARtru,opXl6iW,X4rKaTs,KGTMQAm,3gjhjJm,g602k1h,95N4McM,bYTnEv1,oE4itSQ,JvXhAeu,NXkYwST,AMJFPGm,DrQCZvj,litQHul,5oGqZLO,fMpv3St,reJwTZ9,gZsbIGT,X9XKtqd,y1UJmxL,91Vtyuo,M9ZmqVa,654PVZN,Q85HlaZ,ZnCUbWG,etTZp1H,At6f6rI,hMpDJsA,n8hrhzy,tauZ1JB,HDybTrv,w0zTv56,whzdsQa,QJUor2R,2Spi8J3,j3FAT0t,sfJPo4y,RJVsgqi,805Nn8u,brjMMEN,NkmIETf,keQvKw8,Eau2rV0,dtjP2KI,0LlDXxX,ToopQbi,v59zuqL,5fOUhB9,82GAPvb,gJ5gRml,tPktp8p',\n",
       "       'attribution_link?a=Cvxo5lRHkZY&amp;u=%2Fwatch%3Fv%3DkyjrW9mw0fY%26list%3DUUD8TbGQvNQ_A34pyjh2Seaw%26feature%3Dshare',\n",
       "       'Zzg8lnr', 'mwivw7oKGeTNz',\n",
       "       'uSykhqo,TQAJ5zo,2eWEbQQ,33XGba4,i9Dzmf2,q01uzvZ,6YDqQ6Q,4F1CEEk,RBK8qws,68BSiqV,7gYzKbo,68v2UFZ,71v9MBp,cvwVQwN,ovCp2n7,DF6tMLJ,FPjsSa0',\n",
       "       'view?i=cc9_1297373178',\n",
       "       'attribution_link?a=rvKUJagLa4M&amp;u=%2Fwatch%3Fv%3DecuzXFMficA%26feature%3Dshare',\n",
       "       'attribution_link?a=kx5ravvnz7o&amp;u=%2Fwatch%3Fv%3D6NTDQJ51H9I%26feature%3Dshare',\n",
       "       'attribution_link?a=0rCSaVct5pc&amp;u=%2Fwatch%3Fv%3D9eiWXgQP038%26feature%3Dshare',\n",
       "       'mlmUP',\n",
       "       'attribution_link?a=htd3yG55UZI&amp;u=%2Fwatch%3Fv%3DecuzXFMficA%26feature%3Dshare%26list%3DUUD8TbGQvNQ_A34pyjh2Seaw',\n",
       "       'attribution_link?a=2tsdKNRWDI8&amp;u=%2Fwatch%3Fv%3D1BnIMjIK-V0%26feature%3Dshare',\n",
       "       'X9NSgtI',\n",
       "       'attribution_link?a=mBGXA_To-64&amp;u=%2Fwatch%3Fv%3D0qDMgB4GvTA%26feature%3Dshare',\n",
       "       'attribution_link?a=_0vkWJt7UqE&amp;u=%2Fwatch%3Fv%3DTYdNay6RKT0%26feature%3Dshare',\n",
       "       'militaryarmament-the-u-s-army-special-operations', 'Sx87Al7',\n",
       "       '0M3l9Dp', 'dmZi5BK', '2n29Zsc', 'elI9IxX', 'zGOkOL4', 'it5oNV6',\n",
       "       'attribution_link?a=WheEu1PfjbA&amp;u=%2Fwatch%3Fv%3DH1JYqSg5Rz4%26list%3DUU85dsGseZpzo1ghpXd1RRUw%26feature%3Dshare',\n",
       "       'fc0jFt3,MRA7foR,QmNcvHf,2j3VO2g',\n",
       "       'attribution_link?a=jt4pjFYIEpc&amp;u=%2Fwatch%3Fv%3DB51QUSYWwE8%26feature%3Dshare',\n",
       "       'attribution_link?a=wKgaNd0155A&amp;u=%2Fwatch%3Fv%3DBpFVjpr2jGI%26feature%3Dshare%26list%3DUUD8TbGQvNQ_A34pyjh2Seaw',\n",
       "       'XrguL#8',\n",
       "       'attribution_link?a=IcL3H_I09Yk&amp;u=%2Fwatch%3Fv%3Dj8I63_VyfWs%26feature%3Dshare',\n",
       "       'attribution_link?a=4UWO_W-dwpc&amp;u=%2Fwatch%3Fv%3DizBlL56y0r8%26feature%3Dshare%26list%3DUU85dsGseZpzo1ghpXd1RRUw',\n",
       "       'watch?v=6wQJZmb7rQQ',\n",
       "       'attribution_link?a=qjGEqa29b5A&amp;u=%2Fwatch%3Fv%3DTuehHzFtdXw%26list%3DUUD8TbGQvNQ_A34pyjh2Seaw%26feature%3Dshare',\n",
       "       'YJMO1', 'O6QlKMN', '2457101',\n",
       "       'attribution_link?a=-TSHfNf-kqo&amp;u=%2Fwatch%3Fv%3DXsNpfRd3Gqw%26feature%3Dshare',\n",
       "       'attribution_link?a=SXwShx-EYpk&amp;u=%2Fwatch%3Fv%3DmhPDcgTy5-I%26feature%3Dshare',\n",
       "       'watch?v=AwR9di_admE',\n",
       "       'watch?v=V6kj9asL_Q0&amp;list=UUD8TbGQvNQ_A34pyjh2Seaw',\n",
       "       'attribution_link?a=8OUKMA_O-5U&amp;u=%2Fwatch%3Fv%3DRNgDrx8OfnQ%26feature%3Dshare',\n",
       "       'bUpdr', '00LSmOo,W0q5Tie,JVofpht,xTb9zVc,J5M09B4,kZ0PoKV',\n",
       "       'watch?v=2sYtZVDlIqw&amp;list=UURmRfTjSmzD1FQn3Iwp2fiQ',\n",
       "       'watch?v=B7tRH94Xi-s&amp;list=UU85dsGseZpzo1ghpXd1RRUw',\n",
       "       'jpg:large', 'Mfgul6U', '#sp=show-clips', 'QoET33m',\n",
       "       'watch?v=LOyg_LnaCj4&amp;list=UUD8TbGQvNQ_A34pyjh2Seaw', 'RwcEf',\n",
       "       'OXw2OLH', 'MfOP6xQ', 'watch?v=eZcaz04YFkA', 'watch?v=nUTOvIKLlfA',\n",
       "       'watch?v=ZfP6sYzTNfQ', 'watch?v=dHaw1iCO814', 'html#',\n",
       "       '97180393416', 'watch?v=tifSeHga3tU', 'ogMx1kt',\n",
       "       'watch?v=FIG9gox-niY&amp;list=UUD8TbGQvNQ_A34pyjh2Seaw',\n",
       "       'girl-with-gun-follow-me-at',\n",
       "       'watch?v=Q6F9ECwVOko&amp;list=UUeTSAEoV3Cn4Y9yYn0m7u3g',\n",
       "       'watch?v=FHXVAf_qQ3g',\n",
       "       'watch?v=fwglLTgaozE&amp;list=UU85dsGseZpzo1ghpXd1RRUw',\n",
       "       'watch?v=RGS6n71USoA',\n",
       "       'watch?v=yg2qj29EReE&amp;list=TLs6vj2W4nmPzOjyQLQic06W6m3-goOBc2',\n",
       "       'watch?v=MmMaNGSKflI', 'watch?v=orHdJ57u-S8',\n",
       "       'watch?v=EkuLD62um0Y',\n",
       "       'watch?v=bZgLdfAUyqc&amp;list=UUD8TbGQvNQ_A34pyjh2Seaw',\n",
       "       'watch?v=PjBN2kcFYXw&amp;list=UUD8TbGQvNQ_A34pyjh2Seaw',\n",
       "       'watch?v=oZe2Jko53xc', 'PKAgige', 'watch?v=w4hVlOAmXi4',\n",
       "       'watch?v=2-3i2ELKsGQ', 'qf', '3ew',\n",
       "       'happy-friday-i-bring-to-you-ethereal-rose-hodge', 'GrjVWIa',\n",
       "       '86560610453', '9TyP0k0', 'UpY5a', 'watch?v=qx9e-od6A0g',\n",
       "       'loaded-gun-hidden-in-vagina-576432', 'qPFnQW9',\n",
       "       'watch?v=nAHRF87R8eU&amp;feature=player_detailpage#t=55',\n",
       "       'GTCJ7Cj', 'fmtKY', 'Alien-Huntress-34869106',\n",
       "       'watch?v=Vg7HkMhV5Ug', 'Rg7eklE', 'TQxmbEI', 'zfiM8ou', 'ammo',\n",
       "       '7cdb5171-2955-4c44-8bdf-dc4f145641d8', 'h1KhQ',\n",
       "       '6a00d8341bf67c53ef014e8bc72e8d970d-800wi', 'withgun'],\n",
       "      dtype=object)"
      ]
     },
     "execution_count": 30,
     "metadata": {},
     "output_type": "execute_result"
    }
   ],
   "source": [
    "pd.read_csv('Subreddit Posts/ChicksWithGuns.csv')['url'].str.split('/').apply(lambda x: x[-1]).str.split('.').apply(lambda x: x[-1]).unique()"
   ]
  },
  {
   "cell_type": "code",
   "execution_count": 33,
   "id": "196c111d-a892-4a0c-8d19-1023abe4ff54",
   "metadata": {},
   "outputs": [
    {
     "data": {
      "application/vnd.jupyter.widget-view+json": {
       "model_id": "ef91205db47c438ea4e16c475bb8cd07",
       "version_major": 2,
       "version_minor": 0
      },
      "text/plain": [
       "  0%|          | 0/200 [00:00<?, ?it/s]"
      ]
     },
     "metadata": {},
     "output_type": "display_data"
    },
    {
     "name": "stdout",
     "output_type": "stream",
     "text": [
      "End of subreddit\n"
     ]
    }
   ],
   "source": [
    "subreddit = 'Idiotswithguns'\n",
    "postfile = f'Subreddit Posts/{subreddit}.csv'\n",
    "download_posts(subreddit,postfile, 200)"
   ]
  },
  {
   "cell_type": "code",
   "execution_count": 36,
   "id": "e63abd86-9829-4151-ac47-aea19524323f",
   "metadata": {},
   "outputs": [
    {
     "data": {
      "application/vnd.jupyter.widget-view+json": {
       "model_id": "d0ed764ed28146689e2aa7b5cb1f52d5",
       "version_major": 2,
       "version_minor": 0
      },
      "text/plain": [
       "  0%|          | 0/200 [00:00<?, ?it/s]"
      ]
     },
     "metadata": {},
     "output_type": "display_data"
    },
    {
     "name": "stdout",
     "output_type": "stream",
     "text": [
      "End of subreddit\n"
     ]
    }
   ],
   "source": [
    "subreddit = 'Idiotswithguns'\n",
    "postfile = f'Subreddit Posts/{subreddit}.csv'\n",
    "download_posts(subreddit,postfile, 200)"
   ]
  },
  {
   "cell_type": "code",
   "execution_count": 34,
   "id": "cf54e37b-047b-4279-9b99-236030bf91c1",
   "metadata": {},
   "outputs": [
    {
     "data": {
      "application/vnd.jupyter.widget-view+json": {
       "model_id": "b2fbd56d1d334239862d8da2351ff95a",
       "version_major": 2,
       "version_minor": 0
      },
      "text/plain": [
       "  0%|          | 0/200 [00:00<?, ?it/s]"
      ]
     },
     "metadata": {},
     "output_type": "display_data"
    }
   ],
   "source": [
    "subreddit = 'TheWayWeWere'\n",
    "postfile = f'Subreddit Posts/{subreddit}.csv'\n",
    "download_posts(subreddit,postfile, 200)"
   ]
  },
  {
   "cell_type": "code",
   "execution_count": 38,
   "id": "1599b49e-d3f1-422a-823e-12d32133d617",
   "metadata": {},
   "outputs": [
    {
     "name": "stderr",
     "output_type": "stream",
     "text": [
      "/var/folders/zx/_x1xg_4n2hj8d_6dx7nmrm5m0000gn/T/ipykernel_5110/2358307363.py:3: DtypeWarning: Columns (8,20,28,77,83,86) have mixed types.Specify dtype option on import or set low_memory=False.\n",
      "  download_posts(subreddit,postfile, 300)\n"
     ]
    },
    {
     "data": {
      "application/vnd.jupyter.widget-view+json": {
       "model_id": "d327f1c6203847bbb4a521c427bd7680",
       "version_major": 2,
       "version_minor": 0
      },
      "text/plain": [
       "  0%|          | 0/300 [00:00<?, ?it/s]"
      ]
     },
     "metadata": {},
     "output_type": "display_data"
    },
    {
     "name": "stdout",
     "output_type": "stream",
     "text": [
      "End of subreddit\n"
     ]
    }
   ],
   "source": [
    "subreddit = 'portraits'\n",
    "postfile = f'Subreddit Posts/{subreddit}.csv'\n",
    "download_posts(subreddit,postfile, 300)"
   ]
  },
  {
   "cell_type": "code",
   "execution_count": null,
   "id": "d2c6bf11-734b-4102-80e2-c9db73138702",
   "metadata": {},
   "outputs": [],
   "source": []
  }
 ],
 "metadata": {
  "kernelspec": {
   "display_name": "Python 3 (ipykernel)",
   "language": "python",
   "name": "python3"
  },
  "language_info": {
   "codemirror_mode": {
    "name": "ipython",
    "version": 3
   },
   "file_extension": ".py",
   "mimetype": "text/x-python",
   "name": "python",
   "nbconvert_exporter": "python",
   "pygments_lexer": "ipython3",
   "version": "3.9.7"
  }
 },
 "nbformat": 4,
 "nbformat_minor": 5
}
