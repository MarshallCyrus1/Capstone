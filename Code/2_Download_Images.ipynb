{
 "cells": [
  {
   "cell_type": "code",
   "execution_count": 2,
   "id": "b9a919a8-6ec4-4bd9-9d07-6ae9cedd76be",
   "metadata": {},
   "outputs": [],
   "source": [
    "import requests\n",
    "import pandas as pd\n",
    "from tqdm.notebook import tqdm\n",
    "from pprint import pprint\n",
    "import time\n",
    "import os\n",
    "import datetime\n",
    "import PIL.Image\n",
    "import shutil"
   ]
  },
  {
   "cell_type": "code",
   "execution_count": 7,
   "id": "f0a6d71b-cd54-4117-a40e-fb834b2033dd",
   "metadata": {},
   "outputs": [],
   "source": [
    "def download_images(folder,reddit_csv):\n",
    "    fp = f'Images/{folder}'\n",
    "    if not os.path.exists(fp):\n",
    "        os.mkdir(fp)\n",
    "    df=pd.read_csv(reddit_csv)\n",
    "    images=df[df['url'].apply(lambda x: any([x.endswith(img_end) for img_end in ['jpg','jpeg','png']]))]\n",
    "    post_fix = {'Success':0,'Failed':0}\n",
    "    \n",
    "    pbar = tqdm(images.iterrows(),total=len(images))\n",
    "     \n",
    "    for index, row in pbar:\n",
    "        image_url = row.url\n",
    "        filename = os.path.join(fp,row['url'].split('/')[-1])\n",
    "        if os.path.exists(filename): #file already downloaded\n",
    "            continue\n",
    "        \n",
    "        try:\n",
    "            r= requests.get(image_url,stream=True)\n",
    "        except:\n",
    "            post_fix['Failed']+=1 \n",
    "            continue\n",
    "        if r.status_code==200:\n",
    "            r.raw.decode_content = True\n",
    "            with open(filename,'wb') as f:\n",
    "                shutil.copyfileobj(r.raw,f)\n",
    "            post_fix['Success']+=1\n",
    "        else:\n",
    "            post_fix['Failed']+=1\n",
    "        pbar.set_postfix(post_fix)\n",
    "    pbar.close()\n",
    "    "
   ]
  },
  {
   "cell_type": "code",
   "execution_count": null,
   "id": "f7a662ee-aabe-405d-88b5-05f7be1c3bea",
   "metadata": {},
   "outputs": [
    {
     "data": {
      "application/vnd.jupyter.widget-view+json": {
       "model_id": "3061dff0655f48a382ceb50a8dba8f8e",
       "version_major": 2,
       "version_minor": 0
      },
      "text/plain": [
       "  0%|          | 0/3476 [00:00<?, ?it/s]"
      ]
     },
     "metadata": {},
     "output_type": "display_data"
    }
   ],
   "source": [
    "folder = 'ChicksWithGuns'\n",
    "reddit_csv='Subreddit Posts/ChicksWithGuns.csv'\n",
    "download_images(folder,reddit_csv)"
   ]
  },
  {
   "cell_type": "code",
   "execution_count": null,
   "id": "0d6c3e5e-773c-4742-a424-c3c6e6f0f223",
   "metadata": {},
   "outputs": [],
   "source": []
  }
 ],
 "metadata": {
  "kernelspec": {
   "display_name": "Python 3 (ipykernel)",
   "language": "python",
   "name": "python3"
  },
  "language_info": {
   "codemirror_mode": {
    "name": "ipython",
    "version": 3
   },
   "file_extension": ".py",
   "mimetype": "text/x-python",
   "name": "python",
   "nbconvert_exporter": "python",
   "pygments_lexer": "ipython3",
   "version": "3.9.7"
  }
 },
 "nbformat": 4,
 "nbformat_minor": 5
}
