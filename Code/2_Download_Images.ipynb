{
 "cells": [
  {
   "cell_type": "code",
   "execution_count": 2,
   "id": "b9a919a8-6ec4-4bd9-9d07-6ae9cedd76be",
   "metadata": {},
   "outputs": [],
   "source": [
    "import requests\n",
    "import pandas as pd\n",
    "from tqdm.notebook import tqdm\n",
    "from pprint import pprint\n",
    "import time\n",
    "import os\n",
    "import datetime\n",
    "import PIL.Image\n",
    "import shutil"
   ]
  },
  {
   "cell_type": "code",
   "execution_count": 3,
   "id": "f0a6d71b-cd54-4117-a40e-fb834b2033dd",
   "metadata": {},
   "outputs": [],
   "source": [
    "def download_images(folder,reddit_csv,nsfw=True):\n",
    "    fp = f'Images/{folder}'\n",
    "    if not os.path.exists(fp):\n",
    "        os.mkdir(fp)\n",
    "    df=pd.read_csv(reddit_csv)\n",
    "    images=df[df['url'].apply(lambda x: any([x.endswith(img_end) for img_end in ['jpg','jpeg','png']]))]\n",
    "    post_fix = {'Success':0,'Failed':0}\n",
    "    if not nsfw:\n",
    "        images= images[~images['over_18']]\n",
    "    \n",
    "    pbar = tqdm(images.iterrows(),total=len(images))\n",
    "     \n",
    "    for index, row in pbar:\n",
    "        image_url = row.url\n",
    "        filename = os.path.join(fp,row['url'].split('/')[-1])\n",
    "        if os.path.exists(filename): #file already downloaded\n",
    "            continue\n",
    "        \n",
    "        try:\n",
    "            r= requests.get(image_url,stream=True)\n",
    "        except:\n",
    "            post_fix['Failed']+=1 \n",
    "            continue\n",
    "        if r.status_code==200:\n",
    "            r.raw.decode_content = True\n",
    "            with open(filename,'wb') as f:\n",
    "                shutil.copyfileobj(r.raw,f)\n",
    "            post_fix['Success']+=1\n",
    "        else:\n",
    "            post_fix['Failed']+=1\n",
    "        pbar.set_postfix(post_fix)\n",
    "    pbar.close()\n",
    "    "
   ]
  },
  {
   "cell_type": "code",
   "execution_count": null,
   "id": "f7a662ee-aabe-405d-88b5-05f7be1c3bea",
   "metadata": {},
   "outputs": [
    {
     "data": {
      "application/vnd.jupyter.widget-view+json": {
       "model_id": "74a2d8e590bc4e5e84c6ec5cc8c3e4de",
       "version_major": 2,
       "version_minor": 0
      },
      "text/plain": [
       "  0%|          | 0/3294 [00:00<?, ?it/s]"
      ]
     },
     "metadata": {},
     "output_type": "display_data"
    }
   ],
   "source": [
    "folder = 'ChicksWithGuns'\n",
    "reddit_csv='Subreddit Posts/ChicksWithGuns.csv'\n",
    "download_images(folder,reddit_csv, nsfw=False)"
   ]
  },
  {
   "cell_type": "code",
   "execution_count": 4,
   "id": "0d6c3e5e-773c-4742-a424-c3c6e6f0f223",
   "metadata": {},
   "outputs": [
    {
     "data": {
      "application/vnd.jupyter.widget-view+json": {
       "model_id": "b0ba4e840d3647a3ae80b7c3a7898eb0",
       "version_major": 2,
       "version_minor": 0
      },
      "text/plain": [
       "  0%|          | 0/2169 [00:00<?, ?it/s]"
      ]
     },
     "metadata": {},
     "output_type": "display_data"
    }
   ],
   "source": [
    "folder = 'Idiotswithguns'\n",
    "reddit_csv='Subreddit Posts/Idiotswithguns.csv'\n",
    "download_images(folder,reddit_csv, nsfw=False)"
   ]
  },
  {
   "cell_type": "code",
   "execution_count": null,
   "id": "3b6ab2c5-b855-4741-9a82-000062823f6d",
   "metadata": {},
   "outputs": [
    {
     "name": "stderr",
     "output_type": "stream",
     "text": [
      "/var/folders/zx/_x1xg_4n2hj8d_6dx7nmrm5m0000gn/T/ipykernel_26892/395773312.py:3: DtypeWarning: Columns (1,8,19,21,22,24,34,63,66,67,69,79,82,83,87,89,90,91,92) have mixed types.Specify dtype option on import or set low_memory=False.\n",
      "  download_images(folder,reddit_csv,nsfw=False)\n"
     ]
    },
    {
     "data": {
      "application/vnd.jupyter.widget-view+json": {
       "model_id": "2615d1309d804016ad8202050f12a392",
       "version_major": 2,
       "version_minor": 0
      },
      "text/plain": [
       "  0%|          | 0/35682 [00:00<?, ?it/s]"
      ]
     },
     "metadata": {},
     "output_type": "display_data"
    }
   ],
   "source": [
    "folder = 'TheWayWeWere'\n",
    "reddit_csv='Subreddit Posts/TheWayWeWere.csv'\n",
    "download_images(folder,reddit_csv,nsfw=False)"
   ]
  },
  {
   "cell_type": "code",
   "execution_count": null,
   "id": "668bc4d7-2ffc-4220-885b-2a137e0e7473",
   "metadata": {},
   "outputs": [
    {
     "name": "stderr",
     "output_type": "stream",
     "text": [
      "/var/folders/zx/_x1xg_4n2hj8d_6dx7nmrm5m0000gn/T/ipykernel_27435/1922188840.py:3: DtypeWarning: Columns (0,1,4,5,6,8,9,10,11,12,13,14,18,19,21,22,23,24,25,26,27,29,30,31,32,33,34,35,36,37,38,39,43,45,50,51,52,56,62,65,66,68,69,72,73,74,75,80,86,88,90,91,92,93,97,98,99,104,105,106) have mixed types.Specify dtype option on import or set low_memory=False.\n",
      "  download_images(folder,reddit_csv,nsfw=False)\n"
     ]
    },
    {
     "data": {
      "application/vnd.jupyter.widget-view+json": {
       "model_id": "dee1ca7236f84c77aa7317d322538a0f",
       "version_major": 2,
       "version_minor": 0
      },
      "text/plain": [
       "  0%|          | 0/13312 [00:00<?, ?it/s]"
      ]
     },
     "metadata": {},
     "output_type": "display_data"
    }
   ],
   "source": [
    "folder = 'portraits'\n",
    "reddit_csv='Subreddit Posts/portraits.csv'\n",
    "download_images(folder,reddit_csv,nsfw=False)"
   ]
  }
 ],
 "metadata": {
  "kernelspec": {
   "display_name": "Python 3 (ipykernel)",
   "language": "python",
   "name": "python3"
  },
  "language_info": {
   "codemirror_mode": {
    "name": "ipython",
    "version": 3
   },
   "file_extension": ".py",
   "mimetype": "text/x-python",
   "name": "python",
   "nbconvert_exporter": "python",
   "pygments_lexer": "ipython3",
   "version": "3.9.7"
  }
 },
 "nbformat": 4,
 "nbformat_minor": 5
}
