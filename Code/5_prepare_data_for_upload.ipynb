{
 "cells": [
  {
   "cell_type": "code",
   "execution_count": 7,
   "id": "fbab5c3f",
   "metadata": {},
   "outputs": [],
   "source": [
    "import os\n",
    "import sys\n",
    "import PIL\n",
    "import PIL.Image as Image\n",
    "from tqdm import tqdm\n",
    "import numpy as np\n",
    "import pandas as pd\n",
    "import shutil"
   ]
  },
  {
   "cell_type": "code",
   "execution_count": 2,
   "id": "73c5f165",
   "metadata": {},
   "outputs": [],
   "source": [
    "def prepare_data_for_model(outfolder,csv,folder_labels):\n",
    "    if os.path.exists(outfolder):\n",
    "        print(f'Folder: {outfolder} Already Exists')\n",
    "        return\n",
    "    os.mkdir(outfolder)\n",
    "    \n",
    "    images=pd.read_csv(csv)\n",
    "    images['Subreddit']= images['Maintained Filenames'].str.split(os.path.sep).apply(lambda x : x[-2])\n",
    "    images['Filename']= images['Maintained Filenames'].str.split(os.path.sep).apply(lambda x : x[-1])\n",
    "    images['Subfolder']= images['Subreddit'].map(folder_labels)\n",
    "    images['Filepath'] = outfolder +os.path.sep+ images['Subfolder'] + os.path.sep + images['Filename']\n",
    "    \n",
    "    post_fix = {}\n",
    "    \n",
    "    for subfolder in images['Subfolder'].unique():\n",
    "        os.mkdir(os.path.join(outfolder,subfolder))\n",
    "        post_fix[subfolder]=0\n",
    "       \n",
    "    pbar = tqdm(images.iterrows(),total=len(images))\n",
    "    for index,row in pbar:\n",
    "        with Image.open(row['Maintained Filenames']) as img:\n",
    "            img.save(row['Filepath'])\n",
    "            post_fix[row['Subfolder']]+=1\n",
    "        \n",
    "        pbar.set_postfix(post_fix)\n",
    "    pbar.close()\n",
    "    shutil.make_archive(outfolder,'zip',outfolder)\n",
    "\n"
   ]
  },
  {
   "cell_type": "code",
   "execution_count": 12,
   "id": "d9405be8",
   "metadata": {},
   "outputs": [
    {
     "name": "stdout",
     "output_type": "stream",
     "text": [
      "Folder: dataset_final Already Exists\n"
     ]
    }
   ],
   "source": [
    "folder_labels = {'Idiotswithguns':'Weapon',\n",
    "                'TheWayWeWere':'People',\n",
    "                 'ChicksWithGuns': 'Weapon',\n",
    "                 'Weapons': 'Weapon',\n",
    "                 'portraits': 'People',\n",
    "                 'guns': 'Weapon',\n",
    "                 'Military': 'Weapon',\n",
    "                 'pics': 'Weapon',\n",
    "                 'Shooting': 'Weapon',\n",
    "                 'Guns_Guns_Guns': 'Weapon',\n",
    "                 'airsoft': 'Weapon',\n",
    "                 'Shotguns': 'Weapon'\n",
    "                }\n",
    "outfolder = 'dataset_final'\n",
    "csv='maintained_files_final.csv'\n",
    "prepare_data_for_model(outfolder,csv,folder_labels)\n"
   ]
  },
  {
   "cell_type": "code",
   "execution_count": 16,
   "id": "185ea9b5",
   "metadata": {},
   "outputs": [
    {
     "data": {
      "text/plain": [
       "portraits         2234\n",
       "ChicksWithGuns    1773\n",
       "Weapons            583\n",
       "Idiotswithguns     440\n",
       "Military           136\n",
       "airsoft             47\n",
       "pics                35\n",
       "Guns_Guns_Guns      16\n",
       "guns                15\n",
       "TheWayWeWere         5\n",
       "Shooting             3\n",
       "Shotguns             3\n",
       "Name: Maintained Filenames, dtype: int64"
      ]
     },
     "execution_count": 16,
     "metadata": {},
     "output_type": "execute_result"
    }
   ],
   "source": [
    "#final dataset composition\n",
    "pd.read_csv('maintained_files_final.csv')['Maintained Filenames'].str.split('/').apply(lambda x:x[1]).value_counts()"
   ]
  }
 ],
 "metadata": {
  "kernelspec": {
   "display_name": "Python 3 (ipykernel)",
   "language": "python",
   "name": "python3"
  },
  "language_info": {
   "codemirror_mode": {
    "name": "ipython",
    "version": 3
   },
   "file_extension": ".py",
   "mimetype": "text/x-python",
   "name": "python",
   "nbconvert_exporter": "python",
   "pygments_lexer": "ipython3",
   "version": "3.9.10"
  }
 },
 "nbformat": 4,
 "nbformat_minor": 5
}
