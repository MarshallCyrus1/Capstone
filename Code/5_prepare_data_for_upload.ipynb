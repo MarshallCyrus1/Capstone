{
 "cells": [
  {
   "cell_type": "code",
   "execution_count": 8,
   "id": "47e3d2c3",
   "metadata": {},
   "outputs": [],
   "source": [
    "import os\n",
    "import sys\n",
    "import PIL\n",
    "import PIL.Image as Image\n",
    "from tqdm.notebook import tqdm\n",
    "import numpy as np\n",
    "import pandas as pd\n",
    "import shutil"
   ]
  },
  {
   "cell_type": "code",
   "execution_count": 5,
   "id": "c6536eed",
   "metadata": {},
   "outputs": [],
   "source": [
    "def prepare_data_for_model(outfolder,csv,folder_labels):\n",
    "    if os.path.exists(outfolder):\n",
    "        print(f'Folder: {outfolder} Already Exists')\n",
    "        return\n",
    "    os.mkdir(outfolder)\n",
    "    \n",
    "    images=pd.read_csv(csv)\n",
    "    images['Subreddit']= images['Maintained Filenames'].str.split(os.path.sep).apply(lambda x : x[-2])\n",
    "    images['Filename']= images['Maintained Filenames'].str.split(os.path.sep).apply(lambda x : x[-1])\n",
    "    images['Subfolder']= images['Subreddit'].map(folder_labels)\n",
    "    images['Filepath'] = outfolder +os.path.sep+ images['Subfolder'] + os.path.sep + images['Filename']\n",
    "    \n",
    "    post_fix = {}\n",
    "    \n",
    "    for subfolder in images['Subfolder'].unique():\n",
    "        os.mkdir(os.path.join(outfolder,subfolder))\n",
    "        post_fix[subfolder]=0\n",
    "       \n",
    "    pbar = tqdm(images.iterrows(),total=len(images))\n",
    "    for index,row in pbar:\n",
    "        with Image.open(row['Maintained Filenames']) as img:\n",
    "            img.save(row['Filepath'])\n",
    "            post_fix[row['Subfolder']]+=1\n",
    "        \n",
    "        pbar.set_postfix(post_fix)\n",
    "    pbar.close()\n",
    "    shutil.make_archive(outfolder,'zip',outfolder)\n",
    "\n"
   ]
  },
  {
   "cell_type": "code",
   "execution_count": null,
   "id": "69b67248",
   "metadata": {},
   "outputs": [],
   "source": []
  },
  {
   "cell_type": "code",
   "execution_count": 7,
   "id": "59812b1f",
   "metadata": {},
   "outputs": [
    {
     "data": {
      "application/vnd.jupyter.widget-view+json": {
       "model_id": "2ede139541624098b6f861779a628613",
       "version_major": 2,
       "version_minor": 0
      },
      "text/plain": [
       "  0%|          | 0/5082 [00:00<?, ?it/s]"
      ]
     },
     "metadata": {},
     "output_type": "display_data"
    }
   ],
   "source": [
    "folder_labels = {'Idiotswithguns':'Weapon',\n",
    "                'TheWayWeWere':'People',\n",
    "                 'ChicksWithGuns': 'Weapon',\n",
    "                 'Weapons': 'Weapon',\n",
    "                 'portraits': 'People'\n",
    "                }\n",
    "outfolder = 'dataset_1'\n",
    "csv='maintained_files_final.csv'\n",
    "prepare_data_for_model(outfolder,csv,folder_labels)\n"
   ]
  },
  {
   "cell_type": "code",
   "execution_count": null,
   "id": "bcfbea4f",
   "metadata": {},
   "outputs": [],
   "source": []
  }
 ],
 "metadata": {
  "kernelspec": {
   "display_name": "Python 3 (ipykernel)",
   "language": "python",
   "name": "python3"
  },
  "language_info": {
   "codemirror_mode": {
    "name": "ipython",
    "version": 3
   },
   "file_extension": ".py",
   "mimetype": "text/x-python",
   "name": "python",
   "nbconvert_exporter": "python",
   "pygments_lexer": "ipython3",
   "version": "3.9.12"
  }
 },
 "nbformat": 4,
 "nbformat_minor": 5
}
