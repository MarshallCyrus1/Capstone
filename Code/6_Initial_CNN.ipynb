{
 "cells": [
  {
   "cell_type": "code",
   "execution_count": 28,
   "id": "d3ecd3da",
   "metadata": {
    "id": "43e7e3d0"
   },
   "outputs": [],
   "source": [
    "import tensorflow as tf\n",
    "import os\n",
    "from tensorflow import keras\n",
    "from tensorflow.keras import layers, models\n",
    "from tensorflow.keras.layers import Conv2D, MaxPooling2D, Dense, BatchNormalization, Dropout,RandomFlip, RandomRotation\n",
    "from tensorflow.keras.optimizers import Adam\n",
    "from tensorflow.keras.callbacks import TensorBoard, EarlyStopping, ModelCheckpoint\n",
    "import pandas as pd\n",
    "import shutil"
   ]
  },
  {
   "cell_type": "code",
   "execution_count": 2,
   "id": "0bff71ed",
   "metadata": {
    "colab": {
     "base_uri": "https://localhost:8080/"
    },
    "id": "VNVASZPLL9qW",
    "outputId": "27997c07-e7f8-4f93-bc2c-5d62fdd80395"
   },
   "outputs": [
    {
     "name": "stdout",
     "output_type": "stream",
     "text": [
      "Mounted at /content/drive\n"
     ]
    }
   ],
   "source": [
    "from google.colab import drive\n",
    "drive.mount('/content/drive')"
   ]
  },
  {
   "cell_type": "code",
   "execution_count": 31,
   "id": "808a1113",
   "metadata": {
    "colab": {
     "base_uri": "https://localhost:8080/",
     "height": 35
    },
    "id": "x6YRucflMG8V",
    "outputId": "178767c7-5c62-4467-e375-cc0ff00acad3"
   },
   "outputs": [
    {
     "data": {
      "application/vnd.google.colaboratory.intrinsic+json": {
       "type": "string"
      },
      "text/plain": [
       "'dataset_1'"
      ]
     },
     "execution_count": 31,
     "metadata": {},
     "output_type": "execute_result"
    }
   ],
   "source": [
    "fp ='dataset_1'\n",
    "filepath= f'drive/MyDrive/{fp}'\n",
    "shutil.copytree(filepath,fp)\n"
   ]
  },
  {
   "cell_type": "code",
   "execution_count": 32,
   "id": "2da9c329",
   "metadata": {
    "colab": {
     "base_uri": "https://localhost:8080/"
    },
    "id": "C8wG9I90pBjc",
    "outputId": "ea2b1fdb-ab0f-45da-a983-6c0e154fd792"
   },
   "outputs": [
    {
     "name": "stdout",
     "output_type": "stream",
     "text": [
      "Thu May 12 00:21:35 2022       \n",
      "+-----------------------------------------------------------------------------+\n",
      "| NVIDIA-SMI 460.32.03    Driver Version: 460.32.03    CUDA Version: 11.2     |\n",
      "|-------------------------------+----------------------+----------------------+\n",
      "| GPU  Name        Persistence-M| Bus-Id        Disp.A | Volatile Uncorr. ECC |\n",
      "| Fan  Temp  Perf  Pwr:Usage/Cap|         Memory-Usage | GPU-Util  Compute M. |\n",
      "|                               |                      |               MIG M. |\n",
      "|===============================+======================+======================|\n",
      "|   0  Tesla P100-PCIE...  Off  | 00000000:00:04.0 Off |                    0 |\n",
      "| N/A   38C    P0    35W / 250W |   8773MiB / 16280MiB |      0%      Default |\n",
      "|                               |                      |                  N/A |\n",
      "+-------------------------------+----------------------+----------------------+\n",
      "                                                                               \n",
      "+-----------------------------------------------------------------------------+\n",
      "| Processes:                                                                  |\n",
      "|  GPU   GI   CI        PID   Type   Process name                  GPU Memory |\n",
      "|        ID   ID                                                   Usage      |\n",
      "|=============================================================================|\n",
      "+-----------------------------------------------------------------------------+\n"
     ]
    }
   ],
   "source": [
    "!nvidia-smi"
   ]
  },
  {
   "cell_type": "code",
   "execution_count": 33,
   "id": "960705c1",
   "metadata": {
    "id": "UTqhgYKsbcSQ"
   },
   "outputs": [],
   "source": [
    "model_results = pd.DataFrame(columns=['Model Name','Validation Accuracy'])\n"
   ]
  },
  {
   "cell_type": "code",
   "execution_count": 34,
   "id": "4af781d8",
   "metadata": {
    "id": "5205f777"
   },
   "outputs": [],
   "source": [
    "def load_data(batch_size):\n",
    "    training=keras.utils.image_dataset_from_directory(fp,\n",
    "                                              batch_size=batch_size,\n",
    "                                             validation_split =0.2,\n",
    "                                             subset ='training',\n",
    "                                             seed=42,\n",
    "                                             image_size=(256,256),)\n",
    "    val = keras.utils.image_dataset_from_directory(fp,\n",
    "                                              batch_size=batch_size,\n",
    "                                             validation_split =0.2,\n",
    "                                             subset ='validation',\n",
    "                                             seed=42,\n",
    "                                             image_size=(256,256),)\n",
    "    return training, val\n"
   ]
  },
  {
   "cell_type": "code",
   "execution_count": 35,
   "id": "e843dc30",
   "metadata": {
    "id": "2682b310"
   },
   "outputs": [],
   "source": [
    "AUTOTUNE = tf.data.AUTOTUNE"
   ]
  },
  {
   "cell_type": "code",
   "execution_count": 36,
   "id": "746c514d",
   "metadata": {
    "colab": {
     "base_uri": "https://localhost:8080/"
    },
    "id": "17c0c287",
    "outputId": "38205f6d-8d46-459f-8b60-974a6663fa0a"
   },
   "outputs": [
    {
     "name": "stdout",
     "output_type": "stream",
     "text": [
      "Found 5082 files belonging to 2 classes.\n",
      "Using 4066 files for training.\n",
      "Found 5082 files belonging to 2 classes.\n",
      "Using 1016 files for validation.\n"
     ]
    },
    {
     "data": {
      "text/plain": [
       "<PrefetchDataset element_spec=(TensorSpec(shape=(None, 256, 256, 3), dtype=tf.float32, name=None), TensorSpec(shape=(None,), dtype=tf.int32, name=None))>"
      ]
     },
     "execution_count": 36,
     "metadata": {},
     "output_type": "execute_result"
    }
   ],
   "source": [
    "batch_size= 32\n",
    "training, val = load_data(batch_size)\n",
    "training.cache().shuffle(1000).prefetch(buffer_size=AUTOTUNE)\n",
    "val.cache().prefetch(buffer_size=AUTOTUNE)\n"
   ]
  },
  {
   "cell_type": "code",
   "execution_count": 36,
   "id": "df063fbf",
   "metadata": {
    "id": "943eadb8"
   },
   "outputs": [],
   "source": []
  },
  {
   "cell_type": "code",
   "execution_count": 37,
   "id": "e7b5c529",
   "metadata": {
    "id": "838a3a09"
   },
   "outputs": [],
   "source": [
    "def conv_block(cnn,filters, depth=2,batchnorm =False, dropout=0.0):\n",
    "    for i in range(depth):\n",
    "        cnn.add(Conv2D(filters,(3,3),\n",
    "                         padding='Same',\n",
    "                         activation='relu',\n",
    "                         kernel_initializer = 'he_uniform'))\n",
    "        if batchnorm:\n",
    "            cnn.add(BatchNormalization())\n",
    "    cnn.add(MaxPooling2D((2,2)))\n",
    "    if dropout >0:\n",
    "        cnn.add(Dropout(dropout))\n",
    "    return cnn\n"
   ]
  },
  {
   "cell_type": "markdown",
   "id": "235733ae",
   "metadata": {
    "id": "uhWhD168XZwf"
   },
   "source": [
    "##First Model"
   ]
  },
  {
   "cell_type": "code",
   "execution_count": 38,
   "id": "5954811b",
   "metadata": {
    "id": "OXrxNXX0TgWA"
   },
   "outputs": [],
   "source": [
    "cnn = models.Sequential([layers.Rescaling(1./255,\n",
    "                                           input_shape=(256,256,3))])\n",
    "cnn = conv_block(cnn,64)\n",
    "cnn=conv_block(cnn,128)\n",
    "cnn.add(layers.Flatten())\n",
    "cnn.add(layers.Dense(128,activation='relu'))\n",
    "cnn.add(layers.Dense(1,activation='sigmoid'))\n"
   ]
  },
  {
   "cell_type": "code",
   "execution_count": 39,
   "id": "3fe3d7ac",
   "metadata": {
    "colab": {
     "base_uri": "https://localhost:8080/"
    },
    "id": "ed453bb6",
    "outputId": "523d019a-a7a0-429d-cbb3-f2a81299322f"
   },
   "outputs": [
    {
     "name": "stdout",
     "output_type": "stream",
     "text": [
      "Model: \"sequential_2\"\n",
      "_________________________________________________________________\n",
      " Layer (type)                Output Shape              Param #   \n",
      "=================================================================\n",
      " rescaling_2 (Rescaling)     (None, 256, 256, 3)       0         \n",
      "                                                                 \n",
      " conv2d_8 (Conv2D)           (None, 256, 256, 64)      1792      \n",
      "                                                                 \n",
      " conv2d_9 (Conv2D)           (None, 256, 256, 64)      36928     \n",
      "                                                                 \n",
      " max_pooling2d_4 (MaxPooling  (None, 128, 128, 64)     0         \n",
      " 2D)                                                             \n",
      "                                                                 \n",
      " conv2d_10 (Conv2D)          (None, 128, 128, 128)     73856     \n",
      "                                                                 \n",
      " conv2d_11 (Conv2D)          (None, 128, 128, 128)     147584    \n",
      "                                                                 \n",
      " max_pooling2d_5 (MaxPooling  (None, 64, 64, 128)      0         \n",
      " 2D)                                                             \n",
      "                                                                 \n",
      " flatten_2 (Flatten)         (None, 524288)            0         \n",
      "                                                                 \n",
      " dense_4 (Dense)             (None, 128)               67108992  \n",
      "                                                                 \n",
      " dense_5 (Dense)             (None, 1)                 129       \n",
      "                                                                 \n",
      "=================================================================\n",
      "Total params: 67,369,281\n",
      "Trainable params: 67,369,281\n",
      "Non-trainable params: 0\n",
      "_________________________________________________________________\n"
     ]
    }
   ],
   "source": [
    "cnn.summary()"
   ]
  },
  {
   "cell_type": "code",
   "execution_count": 40,
   "id": "b62b0173",
   "metadata": {
    "id": "74dac0b8"
   },
   "outputs": [],
   "source": [
    "lr = 0.001\n",
    "\n",
    "\n",
    "opt=Adam(learning_rate=lr)\n",
    "cnn.compile(optimizer=opt,loss=tf.keras.losses.BinaryCrossentropy(),metrics=['accuracy'])"
   ]
  },
  {
   "cell_type": "code",
   "execution_count": 41,
   "id": "d5ad85bb",
   "metadata": {
    "id": "fd2f37bd"
   },
   "outputs": [],
   "source": [
    "\n",
    "if not os.path.exists('drive/MyDrive/model_checkpoints'):\n",
    "  os.mkdir('drive/MyDrive/model_checkpoints')\n",
    "\n",
    "model_run = 'run1'\n",
    "outpath = os.path.join('drive/MyDrive/model_checkpoints',model_run)\n",
    "if not os.path.exists(outpath):\n",
    "  os.mkdir(outpath)\n",
    "callbacks = [EarlyStopping(patience = 1,restore_best_weights=True),ModelCheckpoint(outpath,save_best_only=True)]\n",
    "\n"
   ]
  },
  {
   "cell_type": "code",
   "execution_count": 42,
   "id": "ea363ed0",
   "metadata": {
    "colab": {
     "base_uri": "https://localhost:8080/"
    },
    "id": "cfdab5f5",
    "outputId": "fc1231a6-d6c4-4bf9-f517-86fc618d2bcc"
   },
   "outputs": [
    {
     "name": "stdout",
     "output_type": "stream",
     "text": [
      "Epoch 1/10\n",
      "128/128 [==============================] - ETA: 0s - loss: 2.7629 - accuracy: 0.5969INFO:tensorflow:Assets written to: drive/MyDrive/model_checkpoints/run1/assets\n",
      "128/128 [==============================] - 45s 349ms/step - loss: 2.7629 - accuracy: 0.5969 - val_loss: 0.6338 - val_accuracy: 0.6152\n",
      "Epoch 2/10\n",
      "127/128 [============================>.] - ETA: 0s - loss: 0.6022 - accuracy: 0.6885INFO:tensorflow:Assets written to: drive/MyDrive/model_checkpoints/run1/assets\n",
      "128/128 [==============================] - 28s 216ms/step - loss: 0.6022 - accuracy: 0.6884 - val_loss: 0.6199 - val_accuracy: 0.6506\n",
      "Epoch 3/10\n",
      "128/128 [==============================] - 23s 182ms/step - loss: 0.5034 - accuracy: 0.7580 - val_loss: 0.6838 - val_accuracy: 0.7037\n"
     ]
    }
   ],
   "source": [
    "epochs = 10\n",
    "history = cnn.fit(training, validation_data=val,epochs=epochs,callbacks = callbacks)"
   ]
  },
  {
   "cell_type": "code",
   "execution_count": 174,
   "id": "b39445bc",
   "metadata": {
    "id": "_YrVovOcc_3o"
   },
   "outputs": [],
   "source": [
    "model_results=pd.concat([model_results,\n",
    "           pd.DataFrame([[model_run,pd.DataFrame(history.history)['val_accuracy'].max()]],columns=['Model Name','Validation Accuracy'])],\n",
    "  \n",
    "           )"
   ]
  },
  {
   "cell_type": "markdown",
   "id": "24a1e7de",
   "metadata": {
    "id": "0ld5hZp-YJG0"
   },
   "source": [
    "## Increase Model Size and Add Batchnorm and Dropout"
   ]
  },
  {
   "cell_type": "code",
   "execution_count": 175,
   "id": "84102954",
   "metadata": {
    "colab": {
     "base_uri": "https://localhost:8080/"
    },
    "id": "DNxP--DJYtT-",
    "outputId": "8ef3bf9e-a288-4215-e6b6-72219067d641"
   },
   "outputs": [
    {
     "name": "stdout",
     "output_type": "stream",
     "text": [
      "Found 5082 files belonging to 2 classes.\n",
      "Using 4066 files for training.\n",
      "Found 5082 files belonging to 2 classes.\n",
      "Using 1016 files for validation.\n"
     ]
    },
    {
     "data": {
      "text/plain": [
       "<PrefetchDataset element_spec=(TensorSpec(shape=(None, 256, 256, 3), dtype=tf.float32, name=None), TensorSpec(shape=(None,), dtype=tf.int32, name=None))>"
      ]
     },
     "execution_count": 175,
     "metadata": {},
     "output_type": "execute_result"
    }
   ],
   "source": [
    "epochs = 10\n",
    "batch_size= 32\n",
    "model_run = 'run2'\n",
    "lr = 0.001\n",
    "\n",
    "if not os.path.exists('drive/MyDrive/model_checkpoints'):\n",
    "  os.mkdir('drive/MyDrive/model_checkpoints')\n",
    "\n",
    "outpath = os.path.join('drive/MyDrive/model_checkpoints',model_run)\n",
    "if not os.path.exists(outpath):\n",
    "  os.mkdir(outpath)\n",
    "callbacks = [EarlyStopping(patience = 1,restore_best_weights=True),ModelCheckpoint(outpath,save_best_only=True)]\n",
    "\n",
    "\n",
    "training, val = load_data(batch_size)\n",
    "training.cache().shuffle(1000).prefetch(buffer_size=AUTOTUNE)\n",
    "val.cache().prefetch(buffer_size=AUTOTUNE)\n"
   ]
  },
  {
   "cell_type": "code",
   "execution_count": null,
   "id": "52eb0576",
   "metadata": {
    "id": "_x43eGTffF08"
   },
   "outputs": [],
   "source": []
  },
  {
   "cell_type": "code",
   "execution_count": 176,
   "id": "1fd8994d",
   "metadata": {
    "id": "Z-gHwBj1VelA"
   },
   "outputs": [],
   "source": [
    "cnn = models.Sequential([layers.Rescaling(1./255,\n",
    "                                           input_shape=(256,256,3))])\n",
    "cnn = conv_block(cnn,64,dropout=0.2,batchnorm=True)\n",
    "cnn=conv_block(cnn,128,dropout=0.2,batchnorm=True)\n",
    "cnn=conv_block(cnn,256,dropout=0.2,batchnorm=True)\n",
    "cnn.add(layers.Flatten())\n",
    "cnn.add(layers.Dense(128,activation='relu'))\n",
    "cnn.add(layers.Dense(1,activation='sigmoid'))\n",
    "\n",
    "\n",
    "\n",
    "opt=Adam(learning_rate=lr)\n",
    "cnn.compile(optimizer=opt,loss=tf.keras.losses.BinaryCrossentropy(),metrics=['accuracy'])"
   ]
  },
  {
   "cell_type": "code",
   "execution_count": 177,
   "id": "d903569e",
   "metadata": {
    "colab": {
     "base_uri": "https://localhost:8080/"
    },
    "id": "FiX1iCgoX40Q",
    "outputId": "007a4abc-856e-41cc-d132-33687680cc64"
   },
   "outputs": [
    {
     "name": "stdout",
     "output_type": "stream",
     "text": [
      "Epoch 1/10\n",
      "127/128 [============================>.] - ETA: 0s - loss: 6.2722 - accuracy: 0.5933INFO:tensorflow:Assets written to: drive/MyDrive/model_checkpoints/run2/assets\n",
      "128/128 [==============================] - 90s 290ms/step - loss: 6.2693 - accuracy: 0.5932 - val_loss: 0.7907 - val_accuracy: 0.5089\n",
      "Epoch 2/10\n",
      "128/128 [==============================] - 34s 259ms/step - loss: 0.6020 - accuracy: 0.6793 - val_loss: 4.5231 - val_accuracy: 0.4242\n"
     ]
    }
   ],
   "source": [
    "\n",
    "history = cnn.fit(training, validation_data=val,epochs=epochs,callbacks = callbacks)"
   ]
  },
  {
   "cell_type": "code",
   "execution_count": null,
   "id": "dbfeddfe",
   "metadata": {
    "id": "9nkAuwhKbIiM"
   },
   "outputs": [],
   "source": [
    "pd.DataFrame(history.history).plot()\n"
   ]
  },
  {
   "cell_type": "code",
   "execution_count": null,
   "id": "875068ae",
   "metadata": {
    "id": "XuXrTAJBbz0f"
   },
   "outputs": [],
   "source": [
    "model_results=pd.concat([model_results,\n",
    "           pd.DataFrame([[model_run,pd.DataFrame(history.history)['val_accuracy'].max()]],columns=['Model Name','Validation Accuracy'])],\n",
    "  \n",
    "           )"
   ]
  },
  {
   "cell_type": "code",
   "execution_count": 46,
   "id": "7473e672",
   "metadata": {
    "id": "SKYSylYQZMej"
   },
   "outputs": [],
   "source": [
    "def augment(flip =True, rotation= 0.1):\n",
    "  aug = models.Sequential()\n",
    "  if flip:\n",
    "    aug.add(RandomFlip('horizontal'))\n",
    "  if rotation >0:\n",
    "    aug.add(RandomRotation(rotation))\n",
    "  return aug"
   ]
  },
  {
   "cell_type": "markdown",
   "id": "1360c341",
   "metadata": {
    "id": "CzvnD01pa5b0"
   },
   "source": [
    "## Add Data Augmentation. Increase Network Capacity"
   ]
  },
  {
   "cell_type": "code",
   "execution_count": 50,
   "id": "cbd1ed33",
   "metadata": {
    "colab": {
     "base_uri": "https://localhost:8080/"
    },
    "id": "RizguC-ya4mD",
    "outputId": "b8a6b76b-0a73-4fd8-9c7e-6da7d4993e76"
   },
   "outputs": [
    {
     "name": "stdout",
     "output_type": "stream",
     "text": [
      "Found 5082 files belonging to 2 classes.\n",
      "Using 4066 files for training.\n",
      "Found 5082 files belonging to 2 classes.\n",
      "Using 1016 files for validation.\n"
     ]
    },
    {
     "data": {
      "text/plain": [
       "<PrefetchDataset element_spec=(TensorSpec(shape=(None, 256, 256, 3), dtype=tf.float32, name=None), TensorSpec(shape=(None,), dtype=tf.int32, name=None))>"
      ]
     },
     "execution_count": 50,
     "metadata": {},
     "output_type": "execute_result"
    }
   ],
   "source": [
    "epochs = 10\n",
    "model_run = 'run3'\n",
    "lr = 0.001\n",
    "\n",
    "if not os.path.exists('drive/MyDrive/model_checkpoints'):\n",
    "  os.mkdir('drive/MyDrive/model_checkpoints')\n",
    "\n",
    "outpath = os.path.join('drive/MyDrive/model_checkpoints',model_run)\n",
    "if not os.path.exists(outpath):\n",
    "  os.mkdir(outpath)\n",
    "callbacks = [EarlyStopping(patience = 1,restore_best_weights=True),ModelCheckpoint(outpath,save_best_only=True)]\n",
    "\n",
    "\n",
    "\n",
    "training, val = load_data(batch_size)\n",
    "training.cache().shuffle(1000).prefetch(buffer_size=AUTOTUNE)\n",
    "val.cache().prefetch(buffer_size=AUTOTUNE)"
   ]
  },
  {
   "cell_type": "code",
   "execution_count": 48,
   "id": "7bb763b2",
   "metadata": {
    "colab": {
     "base_uri": "https://localhost:8080/"
    },
    "id": "f8N8x9ETbEs9",
    "outputId": "cf60c2cf-592b-4573-fb95-8565da7e0fe0"
   },
   "outputs": [
    {
     "name": "stdout",
     "output_type": "stream",
     "text": [
      "Model: \"sequential_4\"\n",
      "_________________________________________________________________\n",
      " Layer (type)                Output Shape              Param #   \n",
      "=================================================================\n",
      " rescaling_4 (Rescaling)     (None, 256, 256, 3)       0         \n",
      "                                                                 \n",
      " sequential_5 (Sequential)   (None, 256, 256, 3)       0         \n",
      "                                                                 \n",
      " conv2d_12 (Conv2D)          (None, 256, 256, 64)      1792      \n",
      "                                                                 \n",
      " batch_normalization (BatchN  (None, 256, 256, 64)     256       \n",
      " ormalization)                                                   \n",
      "                                                                 \n",
      " conv2d_13 (Conv2D)          (None, 256, 256, 64)      36928     \n",
      "                                                                 \n",
      " batch_normalization_1 (Batc  (None, 256, 256, 64)     256       \n",
      " hNormalization)                                                 \n",
      "                                                                 \n",
      " max_pooling2d_6 (MaxPooling  (None, 128, 128, 64)     0         \n",
      " 2D)                                                             \n",
      "                                                                 \n",
      " dropout (Dropout)           (None, 128, 128, 64)      0         \n",
      "                                                                 \n",
      " conv2d_14 (Conv2D)          (None, 128, 128, 128)     73856     \n",
      "                                                                 \n",
      " batch_normalization_2 (Batc  (None, 128, 128, 128)    512       \n",
      " hNormalization)                                                 \n",
      "                                                                 \n",
      " conv2d_15 (Conv2D)          (None, 128, 128, 128)     147584    \n",
      "                                                                 \n",
      " batch_normalization_3 (Batc  (None, 128, 128, 128)    512       \n",
      " hNormalization)                                                 \n",
      "                                                                 \n",
      " max_pooling2d_7 (MaxPooling  (None, 64, 64, 128)      0         \n",
      " 2D)                                                             \n",
      "                                                                 \n",
      " dropout_1 (Dropout)         (None, 64, 64, 128)       0         \n",
      "                                                                 \n",
      " conv2d_16 (Conv2D)          (None, 64, 64, 256)       295168    \n",
      "                                                                 \n",
      " batch_normalization_4 (Batc  (None, 64, 64, 256)      1024      \n",
      " hNormalization)                                                 \n",
      "                                                                 \n",
      " conv2d_17 (Conv2D)          (None, 64, 64, 256)       590080    \n",
      "                                                                 \n",
      " batch_normalization_5 (Batc  (None, 64, 64, 256)      1024      \n",
      " hNormalization)                                                 \n",
      "                                                                 \n",
      " conv2d_18 (Conv2D)          (None, 64, 64, 256)       590080    \n",
      "                                                                 \n",
      " batch_normalization_6 (Batc  (None, 64, 64, 256)      1024      \n",
      " hNormalization)                                                 \n",
      "                                                                 \n",
      " conv2d_19 (Conv2D)          (None, 64, 64, 256)       590080    \n",
      "                                                                 \n",
      " batch_normalization_7 (Batc  (None, 64, 64, 256)      1024      \n",
      " hNormalization)                                                 \n",
      "                                                                 \n",
      " max_pooling2d_8 (MaxPooling  (None, 32, 32, 256)      0         \n",
      " 2D)                                                             \n",
      "                                                                 \n",
      " dropout_2 (Dropout)         (None, 32, 32, 256)       0         \n",
      "                                                                 \n",
      " flatten_3 (Flatten)         (None, 262144)            0         \n",
      "                                                                 \n",
      " dense_6 (Dense)             (None, 256)               67109120  \n",
      "                                                                 \n",
      " dense_7 (Dense)             (None, 1)                 257       \n",
      "                                                                 \n",
      "=================================================================\n",
      "Total params: 69,440,577\n",
      "Trainable params: 69,437,761\n",
      "Non-trainable params: 2,816\n",
      "_________________________________________________________________\n"
     ]
    }
   ],
   "source": [
    "cnn = models.Sequential([layers.Rescaling(1./255,\n",
    "                                           input_shape=(256,256,3))])\n",
    "cnn.add(augment())\n",
    "cnn = conv_block(cnn,64,dropout=0.2,batchnorm=True)\n",
    "cnn=conv_block(cnn,128,dropout=0.2,batchnorm=True)\n",
    "cnn=conv_block(cnn,256,depth=4,dropout=0.2,batchnorm=True)\n",
    "cnn.add(layers.Flatten())\n",
    "cnn.add(layers.Dense(256,activation='relu'))\n",
    "cnn.add(layers.Dense(1,activation='sigmoid'))\n",
    "\n",
    "cnn.summary()\n",
    "\n",
    "opt=Adam(learning_rate=lr)\n",
    "cnn.compile(optimizer=opt,loss=tf.keras.losses.BinaryCrossentropy(),metrics=['accuracy'])"
   ]
  },
  {
   "cell_type": "code",
   "execution_count": 51,
   "id": "9061e7f8",
   "metadata": {
    "colab": {
     "base_uri": "https://localhost:8080/"
    },
    "id": "rZSveWRwdOjh",
    "outputId": "a8e09398-4ff1-4fc8-86fe-0080d23e4861"
   },
   "outputs": [
    {
     "name": "stdout",
     "output_type": "stream",
     "text": [
      "Epoch 1/10\n",
      "127/128 [============================>.] - ETA: 0s - loss: 0.5357 - accuracy: 0.7308INFO:tensorflow:Assets written to: drive/MyDrive/model_checkpoints/run3/assets\n",
      "128/128 [==============================] - 49s 379ms/step - loss: 0.5355 - accuracy: 0.7309 - val_loss: 0.5591 - val_accuracy: 0.7323\n",
      "Epoch 2/10\n",
      "128/128 [==============================] - 41s 318ms/step - loss: 0.5160 - accuracy: 0.7479 - val_loss: 0.5710 - val_accuracy: 0.7195\n"
     ]
    }
   ],
   "source": [
    "history = cnn.fit(training, validation_data=val,epochs=epochs,callbacks = callbacks)"
   ]
  },
  {
   "cell_type": "code",
   "execution_count": 83,
   "id": "ab4e6a76",
   "metadata": {
    "id": "S5vtvmt0qf83"
   },
   "outputs": [],
   "source": [
    "import seaborn as sns\n",
    "import matplotlib.pyplot as plt\n",
    "import numpy as np\n",
    "from sklearn.metrics import confusion_matrix\n",
    "def plot_confusion_matrix(predictions,labels,p=0.5):\n",
    "  cm=confusion_matrix(labels, predictions>p)\n",
    "  sns.heatmap(cm,annot=True,fmt ='d',xticklabels=['People','Weapon'],yticklabels=['People','Weapon'])\n",
    "  plt.title(f'p>{p}')\n",
    "  plt.ylabel('Actual Label')\n",
    "  plt.xlabel('Predicted Label')\n",
    "\n",
    "def get_predictions(model,data):\n",
    "  \"\"\"Expects a TF Dataset\"\"\"\n",
    "  predicted=[]\n",
    "  labels=[]\n",
    "  for x, y in data:\n",
    "    predicted.append(model.predict(x))\n",
    "    labels.append(y)\n",
    "\n",
    "  \n",
    "  return np.concatenate(predicted), np.concatenate(labels)\n"
   ]
  },
  {
   "cell_type": "code",
   "execution_count": 84,
   "id": "52f015a5",
   "metadata": {
    "id": "6HG6XdLTsp5B"
   },
   "outputs": [],
   "source": [
    "train_preds, train_labels = get_predictions(cnn,training)\n",
    "#train_X, train_y = get_features_and_labels(training)\n",
    "#training_preds = cnn.predict(train_X,batch_size=batch_size)"
   ]
  },
  {
   "cell_type": "markdown",
   "id": "94e473ca-e703-4864-9615-24b10dd02787",
   "metadata": {},
   "source": [
    "### Train confusion matrix"
   ]
  },
  {
   "cell_type": "code",
   "execution_count": 86,
   "id": "b1c63b55",
   "metadata": {
    "colab": {
     "base_uri": "https://localhost:8080/",
     "height": 295
    },
    "id": "WOan__snuC2t",
    "outputId": "be4e1365-7e3c-4f7c-8ece-d7b148748c01"
   },
   "outputs": [
    {
     "data": {
      "image/png": "[encoded data removed]",
      "text/plain": [
       "<Figure size 432x288 with 2 Axes>"
      ]
     },
     "metadata": {
      "needs_background": "light"
     },
     "output_type": "display_data"
    }
   ],
   "source": [
    "plot_confusion_matrix(train_preds, train_labels)"
   ]
  },
  {
   "cell_type": "code",
   "execution_count": 87,
   "id": "c240c1d1",
   "metadata": {
    "colab": {
     "base_uri": "https://localhost:8080/",
     "height": 295
    },
    "id": "YWur_oA6xnta",
    "outputId": "d705150e-9b0c-4d14-a9c2-728b406807b7"
   },
   "outputs": [
    {
     "data": {
      "image/png": "[encoded data removed]",
      "text/plain": [
       "<Figure size 432x288 with 2 Axes>"
      ]
     },
     "metadata": {
      "needs_background": "light"
     },
     "output_type": "display_data"
    }
   ],
   "source": [
    "plot_confusion_matrix(train_preds, train_labels,p=0.95)"
   ]
  },
  {
   "cell_type": "markdown",
   "id": "bbb4a145-946d-4add-b02d-92e59f69b038",
   "metadata": {},
   "source": [
    "### Test Confusion matrix"
   ]
  },
  {
   "cell_type": "code",
   "execution_count": 88,
   "id": "79de9572",
   "metadata": {
    "id": "yYE0LR_qwdIy"
   },
   "outputs": [],
   "source": [
    "test_preds, test_labels = get_predictions(cnn,val)"
   ]
  },
  {
   "cell_type": "code",
   "execution_count": 89,
   "id": "95dfe970",
   "metadata": {
    "colab": {
     "base_uri": "https://localhost:8080/",
     "height": 295
    },
    "id": "W8x4WuzMx94I",
    "outputId": "d9426f6c-8976-4413-de41-955790ea03a7"
   },
   "outputs": [
    {
     "data": {
      "image/png": "[encoded data removed]",
      "text/plain": [
       "<Figure size 432x288 with 2 Axes>"
      ]
     },
     "metadata": {
      "needs_background": "light"
     },
     "output_type": "display_data"
    }
   ],
   "source": [
    "plot_confusion_matrix(test_preds, test_labels)"
   ]
  },
  {
   "cell_type": "code",
   "execution_count": 90,
   "id": "a1fd61bc",
   "metadata": {
    "colab": {
     "base_uri": "https://localhost:8080/",
     "height": 295
    },
    "id": "NrM7bIKUyDkM",
    "outputId": "ce6196cb-f220-440b-934f-2300c2af9bee"
   },
   "outputs": [
    {
     "data": {
      "image/png": "[encoded data removed]",
      "text/plain": [
       "<Figure size 432x288 with 2 Axes>"
      ]
     },
     "metadata": {
      "needs_background": "light"
     },
     "output_type": "display_data"
    }
   ],
   "source": [
    "plot_confusion_matrix(test_preds, test_labels,p=0.95)"
   ]
  }
 ],
 "metadata": {
  "accelerator": "GPU",
  "colab": {
   "collapsed_sections": [],
   "name": "6_Initial_CNN.ipynb",
   "provenance": []
  },
  "kernelspec": {
   "display_name": "Python 3 (ipykernel)",
   "language": "python",
   "name": "python3"
  },
  "language_info": {
   "codemirror_mode": {
    "name": "ipython",
    "version": 3
   },
   "file_extension": ".py",
   "mimetype": "text/x-python",
   "name": "python",
   "nbconvert_exporter": "python",
   "pygments_lexer": "ipython3",
   "version": "3.9.10"
  }
 },
 "nbformat": 4,
 "nbformat_minor": 5
}
