{
 "cells": [
  {
   "cell_type": "code",
   "execution_count": 13,
   "id": "450e2f13",
   "metadata": {},
   "outputs": [],
   "source": [
    "import tensorflow as tf\n",
    "import os\n",
    "from tensorflow import keras\n",
    "from tensorflow.keras import layers, models\n",
    "from tensorflow.keras.layers import Conv2D, MaxPooling2D, Dense, BatchNormalization, Dropout,RandomFlip, RandomRotation\n",
    "from tensorflow.keras.optimizers import Adam\n",
    "from tensorflow.keras.callbacks import TensorBoard, EarlyStopping, ModelCheckpoint\n",
    "import pandas as pd\n",
    "import shutil\n",
    "import seaborn as sns\n",
    "import matplotlib.pyplot as plt\n",
    "import numpy as np\n",
    "from sklearn.metrics import confusion_matrix\n",
    "from cnn_utils import *"
   ]
  },
  {
   "cell_type": "code",
   "execution_count": 14,
   "id": "a3cfe53e",
   "metadata": {},
   "outputs": [
    {
     "ename": "ModuleNotFoundError",
     "evalue": "No module named 'google.colab'",
     "output_type": "error",
     "traceback": [
      "\u001b[0;31m---------------------------------------------------------------------------\u001b[0m",
      "\u001b[0;31mModuleNotFoundError\u001b[0m                       Traceback (most recent call last)",
      "Input \u001b[0;32mIn [14]\u001b[0m, in \u001b[0;36m<cell line: 1>\u001b[0;34m()\u001b[0m\n\u001b[0;32m----> 1\u001b[0m \u001b[38;5;28;01mfrom\u001b[39;00m \u001b[38;5;21;01mgoogle\u001b[39;00m\u001b[38;5;21;01m.\u001b[39;00m\u001b[38;5;21;01mcolab\u001b[39;00m \u001b[38;5;28;01mimport\u001b[39;00m drive\n\u001b[1;32m      2\u001b[0m drive\u001b[38;5;241m.\u001b[39mmount(\u001b[38;5;124m'\u001b[39m\u001b[38;5;124m/content/drive\u001b[39m\u001b[38;5;124m'\u001b[39m)\n",
      "\u001b[0;31mModuleNotFoundError\u001b[0m: No module named 'google.colab'"
     ]
    }
   ],
   "source": [
    "from google.colab import drive\n",
    "drive.mount('/content/drive')"
   ]
  },
  {
   "cell_type": "code",
   "execution_count": null,
   "id": "10a3a327",
   "metadata": {},
   "outputs": [],
   "source": [
    "fp ='dataset_1'\n",
    "filepath= f'drive/MyDrive/{fp}'\n",
    "shutil.copytree(filepath,fp)\n"
   ]
  },
  {
   "cell_type": "code",
   "execution_count": null,
   "id": "cfd02f64",
   "metadata": {},
   "outputs": [],
   "source": [
    "!nvidia-smi"
   ]
  },
  {
   "cell_type": "code",
   "execution_count": null,
   "id": "7a7e6148",
   "metadata": {},
   "outputs": [],
   "source": [
    "METRICS = [\n",
    "      keras.metrics.TruePositives(name='tp'),\n",
    "      keras.metrics.FalsePositives(name='fp'),\n",
    "      keras.metrics.TrueNegatives(name='tn'),\n",
    "      keras.metrics.FalseNegatives(name='fn'), \n",
    "      keras.metrics.BinaryAccuracy(name='accuracy'),\n",
    "      keras.metrics.Precision(name='precision'),\n",
    "      keras.metrics.Recall(name='recall'),\n",
    "      keras.metrics.AUC(name='auc'),\n",
    "      keras.metrics.AUC(name='prc', curve='PR'), # precision-recall curve]"
   ]
  },
  {
   "cell_type": "code",
   "execution_count": null,
   "id": "c25754e6",
   "metadata": {},
   "outputs": [],
   "source": [
    "\n",
    "\n",
    "def run_model(epochs,model_run,lr,batch_size,model)\n",
    "    if not os.path.exists('drive/MyDrive/model_checkpoints'):\n",
    "      os.mkdir('drive/MyDrive/model_checkpoints')\n",
    "\n",
    "    outpath = os.path.join('drive/MyDrive/model_checkpoints',model_run)\n",
    "    if not os.path.exists(outpath):\n",
    "      os.mkdir(outpath)\n",
    "    callbacks = [EarlyStopping(patience = 1,restore_best_weights=True),\n",
    "                 ModelCheckpoint(outpath,save_best_only=True)]\n",
    "\n",
    "\n",
    "\n",
    "    AUTOTUNE = tf.data.AUTOTUNE\n",
    "    batch_size= 32\n",
    "    training, val = load_data(fp,batch_size)\n",
    "    training.cache().shuffle(1000).prefetch(buffer_size=AUTOTUNE)\n",
    "    val.cache().prefetch(buffer_size=AUTOTUNE)\n",
    "    \n",
    "    opt=Adam(learning_rate=lr)\n",
    "    model.compile(optimizer=opt,loss=tf.keras.losses.BinaryCrossentropy(),metrics=metrics)\n",
    "    \n",
    "    history = model.fit(training, validation_data=val,epochs=epochs,callbacks = callbacks)\n",
    "    \n",
    "    test_preds, test_labels = get_predictions(model,val)\n",
    "    plot_confusion_matrix(test_preds, test_labels)\n",
    "    plot_confusion_matrix(test_preds, test_labels,p=0.95)\n",
    "    return history\n",
    "\n"
   ]
  },
  {
   "cell_type": "code",
   "execution_count": null,
   "id": "9ed2a29a",
   "metadata": {},
   "outputs": [],
   "source": [
    "epochs = 10\n",
    "model_run = '7_run1'\n",
    "lr = 0.001\n",
    "\n",
    "\n",
    "cnn = models.Sequential([layers.Rescaling(1./255,\n",
    "                                           input_shape=(256,256,3))])\n",
    "cnn.add(augment())\n",
    "cnn = conv_block(cnn,64,dropout=0.2,batchnorm=True)\n",
    "cnn=conv_block(cnn,128,dropout=0.2,batchnorm=True)\n",
    "cnn=conv_block(cnn,256,depth=4,dropout=0.2,batchnorm=True)\n",
    "cnn.add(layers.Flatten())\n",
    "cnn.add(layers.Dense(256,activation='relu'))\n",
    "cnn.add(layers.Dense(1,activation='sigmoid'))\n",
    "\n",
    "cnn.summary()\n",
    "\n",
    "run_model(epochs,model_run,lr,batchsize,cnn)"
   ]
  },
  {
   "cell_type": "code",
   "execution_count": null,
   "id": "579d8dfb",
   "metadata": {},
   "outputs": [],
   "source": []
  },
  {
   "cell_type": "code",
   "execution_count": null,
   "id": "c8860366",
   "metadata": {},
   "outputs": [],
   "source": []
  },
  {
   "cell_type": "code",
   "execution_count": null,
   "id": "688bd1f8",
   "metadata": {},
   "outputs": [],
   "source": []
  }
 ],
 "metadata": {
  "kernelspec": {
   "display_name": "Python 3 (ipykernel)",
   "language": "python",
   "name": "python3"
  },
  "language_info": {
   "codemirror_mode": {
    "name": "ipython",
    "version": 3
   },
   "file_extension": ".py",
   "mimetype": "text/x-python",
   "name": "python",
   "nbconvert_exporter": "python",
   "pygments_lexer": "ipython3",
   "version": "3.9.12"
  }
 },
 "nbformat": 4,
 "nbformat_minor": 5
}
