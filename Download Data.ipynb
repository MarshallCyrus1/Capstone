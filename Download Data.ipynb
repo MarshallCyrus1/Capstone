{
 "cells": [
  {
   "cell_type": "markdown",
   "id": "e864e8e8",
   "metadata": {},
   "source": [
    "## Description\n",
    "\n",
    "This notebook downloads and crops the data used in the final dataset. To use, simply run all the cells"
   ]
  },
  {
   "cell_type": "code",
   "execution_count": 4,
   "id": "b4052150",
   "metadata": {},
   "outputs": [],
   "source": [
    "import os\n",
    "import sys\n",
    "import shutil\n",
    "import PIL\n",
    "import requests\n",
    "import PIL.Image as Image\n",
    "from tqdm import tqdm\n",
    "import numpy as np\n",
    "import pandas as pd\n",
    "\n",
    "def load_image(filename):\n",
    "    return Image.open(filename).convert('RGB') #this conversion is crucial as PIL will open png files with either 3 or 4 channels depending on encoding\n",
    "\n",
    "def center_crop(img):\n",
    "    '''Algorithm derived from nvidia preprocessor'''\n",
    "    crop = np.min(img.shape[:2])\n",
    "    img = img[(img.shape[0]-crop)//2:(img.shape[0]+crop)//2,(img.shape[1]-crop)//2:(img.shape[1]+crop)//2]\n",
    "    img = Image.fromarray(img,'RGB')\n",
    "    return img\n",
    "\n",
    "def resize_and_crop(fp,width,height):\n",
    "    img=np.asarray(load_image(fp),dtype=np.uint8)\n",
    "    img=center_crop(img)\n",
    "    \n",
    "#     if img.size[1]<height or img.size[0]<width:\n",
    "#         print('here')\n",
    "#         print(fp)\n",
    "    \n",
    "    img=img.resize((width,height),Image.LANCZOS)\n",
    "    img=np.array(img)\n",
    "    \n",
    "    canvas = np.zeros([width,width,3],dtype=np.uint8)\n",
    "    canvas[(width-height)//2: (width+height)//2,:]=img\n",
    "    return Image.fromarray(canvas )\n",
    "\n",
    "        #img.save(f'filen.jpg')\n",
    "\n",
    "\n",
    "def download_images(reddit_csv):\n",
    "    print('Downloading and Cropping Images')\n",
    "    fp ='Data'\n",
    "    fpt = os.path.join('Data','temp')\n",
    "    if not os.path.exists(fp):\n",
    "        os.mkdir(fp)\n",
    "    os.mkdir(fpt)\n",
    "    fpw= os.path.join(fp,'Weapon')\n",
    "    fpp =os.path.join(fp,'People')\n",
    "    os.mkdir(fpw)\n",
    "    os.mkdir(fpp)\n",
    "    df=pd.read_csv(reddit_csv)\n",
    "    \n",
    "    post_fix = {'Success':0,'Failed':0}\n",
    "\n",
    "    \n",
    "    pbar = tqdm(df.iterrows(),total=len(df))\n",
    "    \n",
    "    for index, row in pbar:\n",
    "        image_url = row.url\n",
    "        filename = os.path.join(fpt,row['url'].split('/')[-1])\n",
    "        label = row.label\n",
    "        filename=os.path.join(fpt,row['url'].split('/')[-1])\n",
    "        \n",
    "        try:\n",
    "            r= requests.get(image_url,stream=True)\n",
    "        except:\n",
    "            post_fix['Failed']+=1 \n",
    "            continue\n",
    "        if r.status_code==200:\n",
    "            r.raw.decode_content = True\n",
    "            with open(filename,'wb') as f:\n",
    "                shutil.copyfileobj(r.raw,f)\n",
    "            post_fix['Success']+=1\n",
    "        else:\n",
    "            post_fix['Failed']+=1\n",
    "        \n",
    "        ##Crop\n",
    "        canvas=resize_and_crop(filename,256,256)\n",
    "        if label =='People':\n",
    "            fn2 =os.path.join(fpp,row['url'].split('/')[-1])\n",
    "        if label =='Weapon':\n",
    "             fn2 =os.path.join(fpw,row['url'].split('/')[-1])\n",
    "        canvas.save(fn2)\n",
    "        os.remove(filename)\n",
    "        pbar.set_postfix(post_fix)\n",
    "    pbar.close()\n",
    "    os.rmdir(fpt)\n",
    "    "
   ]
  },
  {
   "cell_type": "code",
   "execution_count": 6,
   "id": "dd508ff4",
   "metadata": {},
   "outputs": [
    {
     "name": "stdout",
     "output_type": "stream",
     "text": [
      "Downloading and Cropping Images\n"
     ]
    },
    {
     "name": "stderr",
     "output_type": "stream",
     "text": [
      "  0%|                                                  | 0/4595 [00:00<?, ?it/s]/var/folders/zx/_x1xg_4n2hj8d_6dx7nmrm5m0000gn/T/ipykernel_32885/1664118427.py:29: DeprecationWarning: LANCZOS is deprecated and will be removed in Pillow 10 (2023-07-01). Use Resampling.LANCZOS instead.\n",
      "  img=img.resize((width,height),Image.LANCZOS)\n",
      "  0%|                     | 9/4595 [00:03<25:33,  2.99it/s, Success=9, Failed=0]\n",
      "\n",
      "KeyboardInterrupt\n",
      "\n"
     ]
    }
   ],
   "source": [
    "download_images('data_download.csv')"
   ]
  },
  {
   "cell_type": "code",
   "execution_count": null,
   "id": "0865c125",
   "metadata": {},
   "outputs": [],
   "source": []
  }
 ],
 "metadata": {
  "kernelspec": {
   "display_name": "Python 3 (ipykernel)",
   "language": "python",
   "name": "python3"
  },
  "language_info": {
   "codemirror_mode": {
    "name": "ipython",
    "version": 3
   },
   "file_extension": ".py",
   "mimetype": "text/x-python",
   "name": "python",
   "nbconvert_exporter": "python",
   "pygments_lexer": "ipython3",
   "version": "3.9.12"
  }
 },
 "nbformat": 4,
 "nbformat_minor": 5
}
