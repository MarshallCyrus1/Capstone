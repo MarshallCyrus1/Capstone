{
 "cells": [
  {
   "cell_type": "markdown",
   "metadata": {
    "id": "GkgEJaWLL0h-"
   },
   "source": [
    "This notebook is used to make predictions for a pretrained model on an arbitrary image "
   ]
  },
  {
   "cell_type": "code",
   "execution_count": 23,
   "metadata": {
    "id": "K_kudM8eLtNc"
   },
   "outputs": [],
   "source": [
    "import os\n",
    "import sys\n",
    "import PIL\n",
    "import requests\n",
    "import PIL.Image as Image\n",
    "import numpy as np\n",
    "import pandas as pd\n",
    "from tensorflow import keras\n",
    "\n",
    "def load_image(filename):\n",
    "    return Image.open(filename).convert('RGB') #this conversion is crucial as PIL will open png files with either 3 or 4 channels depending on encoding\n",
    "\n",
    "def center_crop(img):\n",
    "    '''Algorithm derived from nvidia preprocessor'''\n",
    "    crop = np.min(img.shape[:2])\n",
    "    img = img[(img.shape[0]-crop)//2:(img.shape[0]+crop)//2,(img.shape[1]-crop)//2:(img.shape[1]+crop)//2]\n",
    "    img = Image.fromarray(img,'RGB')\n",
    "    return img\n",
    "\n",
    "def resize_and_crop(fp,width,height):\n",
    "    img=np.asarray(load_image(fp),dtype=np.uint8)\n",
    "    img=center_crop(img)\n",
    "    \n",
    "    img=img.resize((width,height),Image.LANCZOS)\n",
    "    img=np.array(img)\n",
    "    \n",
    "    canvas = np.zeros([width,width,3],dtype=np.uint8)\n",
    "    canvas[(width-height)//2: (width+height)//2,:]=img\n",
    "    return np.array([np.array(Image.fromarray(canvas))])\n",
    "\n",
    "\n",
    "\n",
    "def test_image(fp,model):\n",
    "  return model.predict(resize_and_crop(fp,256,256),batch_size=1)\n",
    "\n"
   ]
  },
  {
   "cell_type": "code",
   "execution_count": 4,
   "metadata": {
    "id": "uCvlJCooLxZN"
   },
   "outputs": [],
   "source": [
    "file_path_to_image = ''\n",
    "model_path = 'final_model'\n",
    "model = keras.models.load_model(model_path)\n"
   ]
  },
  {
   "cell_type": "code",
   "execution_count": 26,
   "metadata": {
    "colab": {
     "base_uri": "https://localhost:8080/"
    },
    "id": "2XvQ4GVYLzRg",
    "outputId": "3367e80b-c96b-453f-e735-68592a67790e"
   },
   "outputs": [
    {
     "data": {
      "text/plain": [
       "array([[0.38846868]], dtype=float32)"
      ]
     },
     "execution_count": 26,
     "metadata": {},
     "output_type": "execute_result"
    }
   ],
   "source": [
    "\n",
    "test_image(file_path_to_image,model) #probability of weapon holding"
   ]
  },
  {
   "cell_type": "code",
   "execution_count": 26,
   "metadata": {
    "id": "f9pq3vQGRYCX"
   },
   "outputs": [],
   "source": []
  },
  {
   "cell_type": "code",
   "execution_count": null,
   "metadata": {
    "id": "kqid26VcSehc"
   },
   "outputs": [],
   "source": []
  }
 ],
 "metadata": {
  "accelerator": "GPU",
  "colab": {
   "collapsed_sections": [],
   "name": "Predict.ipynb",
   "provenance": []
  },
  "kernelspec": {
   "display_name": "Python 3 (ipykernel)",
   "language": "python",
   "name": "python3"
  },
  "language_info": {
   "codemirror_mode": {
    "name": "ipython",
    "version": 3
   },
   "file_extension": ".py",
   "mimetype": "text/x-python",
   "name": "python",
   "nbconvert_exporter": "python",
   "pygments_lexer": "ipython3",
   "version": "3.9.12"
  }
 },
 "nbformat": 4,
 "nbformat_minor": 4
}
