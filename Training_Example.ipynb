{
  "nbformat": 4,
  "nbformat_minor": 0,
  "metadata": {
    "colab": {
      "name": "Training Example.ipynb",
      "private_outputs": true,
      "provenance": []
    },
    "kernelspec": {
      "name": "python3",
      "display_name": "Python 3"
    },
    "language_info": {
      "name": "python"
    },
    "accelerator": "GPU"
  },
  "cells": [
    {
      "cell_type": "markdown",
      "source": [
        "##Training Example\n",
        "\n",
        "Note: this notebook is meant to be ran after the Download Data Notebook"
      ],
      "metadata": {
        "id": "zi19bGepJEaO"
      }
    },
    {
      "cell_type": "code",
      "source": [
        "import tensorflow as tf\n",
        "import os\n",
        "from tensorflow import keras\n",
        "from tensorflow.keras import layers, models\n",
        "from tensorflow.keras.layers import Conv2D, MaxPooling2D, Dense, BatchNormalization, Dropout,RandomFlip, RandomRotation\n",
        "from tensorflow.keras.optimizers import Adam\n",
        "from tensorflow.keras.callbacks import TensorBoard, EarlyStopping, ModelCheckpoint\n",
        "import pandas as pd\n",
        "import shutil\n",
        "import seaborn as sns\n",
        "import matplotlib.pyplot as plt\n",
        "import numpy as np\n",
        "from sklearn.metrics import confusion_matrix\n",
        "from mpl_toolkits.axes_grid1 import ImageGrid\n",
        "from tqdm.notebook import tqdm\n",
        "from sklearn.metrics import roc_curve, RocCurveDisplay\n",
        "from tensorflow.keras.applications import Xception \n",
        "from tensorflow.keras.applications.xception import preprocess_input\n",
        "from cnn_utils import *"
      ],
      "metadata": {
        "id": "cIs_T1IbJqtr"
      },
      "execution_count": null,
      "outputs": []
    },
    {
      "cell_type": "code",
      "source": [
        "fp= 'Data'"
      ],
      "metadata": {
        "id": "fHxp29GzJtEc"
      },
      "execution_count": null,
      "outputs": []
    },
    {
      "cell_type": "code",
      "source": [
        "#Set up metrics\n",
        "metrics = [\n",
        "      keras.metrics.TruePositives(name='tp'),\n",
        "      keras.metrics.FalsePositives(name='fp'),\n",
        "      keras.metrics.TrueNegatives(name='tn'),\n",
        "      keras.metrics.FalseNegatives(name='fn'), \n",
        "      keras.metrics.BinaryAccuracy(name='accuracy'),\n",
        "      keras.metrics.Precision(name='precision'),\n",
        "      keras.metrics.Recall(name='recall'),\n",
        "      keras.metrics.AUC(name='auc'),\n",
        "      keras.metrics.AUC(name='prc', curve='PR') # precision-recall curve\n",
        "      ]"
      ],
      "metadata": {
        "id": "2nHwMwNyJ3oO"
      },
      "execution_count": null,
      "outputs": []
    },
    {
      "cell_type": "code",
      "source": [
        "#initialize final model\n",
        "base_model = Xception(weights='imagenet',\n",
        "         input_shape=(256,256,3),\n",
        "         include_top=False)\n",
        "base_model.trainable = False #freeze base model layers\n",
        "aug =augment()\n",
        "inputs = keras.Input(shape=(256,256,3))\n",
        "x = aug(inputs)\n",
        "#scale=layers.Rescaling(1./127.5, offset = -1)\n",
        "x=preprocess_input(x)\n",
        "x=base_model(x,training=False)\n",
        "x= keras.layers.GlobalAveragePooling2D()(x)\n",
        "x= Dropout(0.2)(x)\n",
        "outputs = Dense(1,activation='sigmoid')(x)\n",
        "model = keras.Model(inputs,outputs)\n",
        "model.summary()"
      ],
      "metadata": {
        "id": "7O-1z-AQJ8R3"
      },
      "execution_count": null,
      "outputs": []
    },
    {
      "cell_type": "code",
      "source": [
        "epochs = 100\n",
        "model_run = '8_run1'\n",
        "lr = 0.001\n",
        "batch_size= 32\n",
        "\n",
        "if not os.path.exists('model_checkpoints'):\n",
        "  os.mkdir('model_checkpoints')\n",
        "\n",
        "outpath = os.path.join('model_checkpoints',model_run)\n",
        "if not os.path.exists(outpath):\n",
        "  os.mkdir(outpath)\n",
        "\n",
        "callbacks = [EarlyStopping(patience = 2,restore_best_weights=True),\n",
        "              ModelCheckpoint(outpath,save_best_only=True,verbose=False)]\n",
        "\n",
        "###Fit\n",
        "\n",
        "AUTOTUNE = tf.data.AUTOTUNE\n",
        "batch_size= 32\n",
        "training, val = load_data(fp,batch_size)\n",
        "training.cache().shuffle(1000).prefetch(buffer_size=AUTOTUNE)\n",
        "val.cache().prefetch(buffer_size=AUTOTUNE)\n",
        "    \n",
        "opt=Adam(learning_rate=lr)\n",
        "model.summary()\n",
        "model.compile(optimizer=opt,loss=tf.keras.losses.BinaryCrossentropy(),metrics=metrics)\n",
        "\n",
        "history = model.fit(training, validation_data=val,epochs=epochs,callbacks = callbacks)\n",
        "\n",
        "\n",
        "\n",
        "\n"
      ],
      "metadata": {
        "id": "EfrN-w9xKEci"
      },
      "execution_count": null,
      "outputs": []
    },
    {
      "cell_type": "code",
      "source": [
        ""
      ],
      "metadata": {
        "id": "9ymyF6XEK2vR"
      },
      "execution_count": null,
      "outputs": []
    },
    {
      "cell_type": "code",
      "source": [
        ""
      ],
      "metadata": {
        "id": "5wlEgZGaLkxa"
      },
      "execution_count": null,
      "outputs": []
    },
    {
      "cell_type": "code",
      "source": [
        ""
      ],
      "metadata": {
        "id": "7FC73H5cLnZW"
      },
      "execution_count": null,
      "outputs": []
    }
  ]
}